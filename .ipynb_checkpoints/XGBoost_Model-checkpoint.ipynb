{
 "cells": [
  {
   "cell_type": "markdown",
   "metadata": {},
   "source": [
    "## San Francisco Restaurant Reviews Machine Learning Stage\n",
    "## XGBoost Classifier\n",
    "### Darren Lyles"
   ]
  },
  {
   "cell_type": "markdown",
   "metadata": {},
   "source": [
    "<p>\n",
    "    Here, I will be using the XGBoost model on restaurant reviews and their \n",
    "    corresponding ratings for restaurants in San Francisco.\n",
    "</p>"
   ]
  },
  {
   "cell_type": "code",
   "execution_count": 1,
   "metadata": {},
   "outputs": [],
   "source": [
    "import nltk\n",
    "import pandas as pd\n",
    "import matplotlib.pyplot as plt\n",
    "import numpy as np\n",
    "import itertools\n",
    "import time\n",
    "import warnings\n",
    "warnings.filterwarnings(\"ignore\")"
   ]
  },
  {
   "cell_type": "code",
   "execution_count": 2,
   "metadata": {},
   "outputs": [
    {
     "data": {
      "text/html": [
       "<div>\n",
       "<style scoped>\n",
       "    .dataframe tbody tr th:only-of-type {\n",
       "        vertical-align: middle;\n",
       "    }\n",
       "\n",
       "    .dataframe tbody tr th {\n",
       "        vertical-align: top;\n",
       "    }\n",
       "\n",
       "    .dataframe thead th {\n",
       "        text-align: right;\n",
       "    }\n",
       "</style>\n",
       "<table border=\"1\" class=\"dataframe\">\n",
       "  <thead>\n",
       "    <tr style=\"text-align: right;\">\n",
       "      <th></th>\n",
       "      <th>Unnamed: 0</th>\n",
       "      <th>name</th>\n",
       "      <th>cuisine</th>\n",
       "      <th>address</th>\n",
       "      <th>locality</th>\n",
       "      <th>region</th>\n",
       "      <th>hours</th>\n",
       "      <th>email</th>\n",
       "      <th>tel</th>\n",
       "      <th>fax</th>\n",
       "      <th>...</th>\n",
       "      <th>latitude</th>\n",
       "      <th>longitude</th>\n",
       "      <th>price</th>\n",
       "      <th>rating</th>\n",
       "      <th>review_url</th>\n",
       "      <th>review_title</th>\n",
       "      <th>review_text</th>\n",
       "      <th>tokenized_review_text</th>\n",
       "      <th>review_rating</th>\n",
       "      <th>review_date</th>\n",
       "    </tr>\n",
       "  </thead>\n",
       "  <tbody>\n",
       "    <tr>\n",
       "      <th>0</th>\n",
       "      <td>0</td>\n",
       "      <td>21st Amendment Brewery &amp; Restaurant</td>\n",
       "      <td>['Cafe', 'Pub Food', 'American', 'Burgers', 'P...</td>\n",
       "      <td>563 2nd St</td>\n",
       "      <td>San Francisco</td>\n",
       "      <td>CA</td>\n",
       "      <td>{'monday': [['11:30', '23:59']], 'tuesday': [[...</td>\n",
       "      <td>new-pub@21st-amendment.com</td>\n",
       "      <td>(415) 369-0900</td>\n",
       "      <td>(415) 369-0909</td>\n",
       "      <td>...</td>\n",
       "      <td>37.782448</td>\n",
       "      <td>-122.392576</td>\n",
       "      <td>2</td>\n",
       "      <td>4.0</td>\n",
       "      <td>https://www.tripadvisor.com/ShowUserReviews-g6...</td>\n",
       "      <td>Great drinks and food</td>\n",
       "      <td>They have great local craft beers and probably...</td>\n",
       "      <td>['great', 'local', 'craft', 'beer', 'probably'...</td>\n",
       "      <td>4</td>\n",
       "      <td>Mar 28, 2016 12:00:00 AM</td>\n",
       "    </tr>\n",
       "    <tr>\n",
       "      <th>1</th>\n",
       "      <td>1</td>\n",
       "      <td>21st Amendment Brewery &amp; Restaurant</td>\n",
       "      <td>['Cafe', 'Pub Food', 'American', 'Burgers', 'P...</td>\n",
       "      <td>563 2nd St</td>\n",
       "      <td>San Francisco</td>\n",
       "      <td>CA</td>\n",
       "      <td>{'monday': [['11:30', '23:59']], 'tuesday': [[...</td>\n",
       "      <td>new-pub@21st-amendment.com</td>\n",
       "      <td>(415) 369-0900</td>\n",
       "      <td>(415) 369-0909</td>\n",
       "      <td>...</td>\n",
       "      <td>37.782448</td>\n",
       "      <td>-122.392576</td>\n",
       "      <td>2</td>\n",
       "      <td>4.0</td>\n",
       "      <td>https://www.tripadvisor.com/ShowUserReviews-g6...</td>\n",
       "      <td>Good food &amp;amp; beer</td>\n",
       "      <td>We went to the downtown SF location. The resta...</td>\n",
       "      <td>['went', 'downtown', 'sf', 'location', 'restau...</td>\n",
       "      <td>4</td>\n",
       "      <td>Mar 27, 2016 12:00:00 AM</td>\n",
       "    </tr>\n",
       "    <tr>\n",
       "      <th>2</th>\n",
       "      <td>2</td>\n",
       "      <td>21st Amendment Brewery &amp; Restaurant</td>\n",
       "      <td>['Cafe', 'Pub Food', 'American', 'Burgers', 'P...</td>\n",
       "      <td>563 2nd St</td>\n",
       "      <td>San Francisco</td>\n",
       "      <td>CA</td>\n",
       "      <td>{'monday': [['11:30', '23:59']], 'tuesday': [[...</td>\n",
       "      <td>new-pub@21st-amendment.com</td>\n",
       "      <td>(415) 369-0900</td>\n",
       "      <td>(415) 369-0909</td>\n",
       "      <td>...</td>\n",
       "      <td>37.782448</td>\n",
       "      <td>-122.392576</td>\n",
       "      <td>2</td>\n",
       "      <td>4.0</td>\n",
       "      <td>https://www.tripadvisor.com/ShowUserReviews-g6...</td>\n",
       "      <td>Pretty good beers</td>\n",
       "      <td>I just came to this place for drinks with an o...</td>\n",
       "      <td>['came', 'place', 'drink', 'old', 'colleague',...</td>\n",
       "      <td>4</td>\n",
       "      <td>Mar 16, 2016 12:00:00 AM</td>\n",
       "    </tr>\n",
       "    <tr>\n",
       "      <th>3</th>\n",
       "      <td>3</td>\n",
       "      <td>21st Amendment Brewery &amp; Restaurant</td>\n",
       "      <td>['Cafe', 'Pub Food', 'American', 'Burgers', 'P...</td>\n",
       "      <td>563 2nd St</td>\n",
       "      <td>San Francisco</td>\n",
       "      <td>CA</td>\n",
       "      <td>{'monday': [['11:30', '23:59']], 'tuesday': [[...</td>\n",
       "      <td>new-pub@21st-amendment.com</td>\n",
       "      <td>(415) 369-0900</td>\n",
       "      <td>(415) 369-0909</td>\n",
       "      <td>...</td>\n",
       "      <td>37.782448</td>\n",
       "      <td>-122.392576</td>\n",
       "      <td>2</td>\n",
       "      <td>4.0</td>\n",
       "      <td>https://www.tripadvisor.com/ShowUserReviews-g6...</td>\n",
       "      <td>Ridiculously overpriced (yes I live in SF)</td>\n",
       "      <td>Mediocre food (not bad, just mediocre, you can...</td>\n",
       "      <td>['mediocre', 'food', 'bad', 'mediocre', 'find'...</td>\n",
       "      <td>3</td>\n",
       "      <td>Mar 8, 2016 12:00:00 AM</td>\n",
       "    </tr>\n",
       "    <tr>\n",
       "      <th>4</th>\n",
       "      <td>4</td>\n",
       "      <td>21st Amendment Brewery &amp; Restaurant</td>\n",
       "      <td>['Cafe', 'Pub Food', 'American', 'Burgers', 'P...</td>\n",
       "      <td>563 2nd St</td>\n",
       "      <td>San Francisco</td>\n",
       "      <td>CA</td>\n",
       "      <td>{'monday': [['11:30', '23:59']], 'tuesday': [[...</td>\n",
       "      <td>new-pub@21st-amendment.com</td>\n",
       "      <td>(415) 369-0900</td>\n",
       "      <td>(415) 369-0909</td>\n",
       "      <td>...</td>\n",
       "      <td>37.782448</td>\n",
       "      <td>-122.392576</td>\n",
       "      <td>2</td>\n",
       "      <td>4.0</td>\n",
       "      <td>https://www.tripadvisor.com/ShowUserReviews-g6...</td>\n",
       "      <td>Team dinner</td>\n",
       "      <td>We headed out for our team dinner to this esta...</td>\n",
       "      <td>['headed', 'team', 'dinner', 'establishment', ...</td>\n",
       "      <td>4</td>\n",
       "      <td>Mar 1, 2016 12:00:00 AM</td>\n",
       "    </tr>\n",
       "  </tbody>\n",
       "</table>\n",
       "<p>5 rows × 22 columns</p>\n",
       "</div>"
      ],
      "text/plain": [
       "   Unnamed: 0                                 name  \\\n",
       "0           0  21st Amendment Brewery & Restaurant   \n",
       "1           1  21st Amendment Brewery & Restaurant   \n",
       "2           2  21st Amendment Brewery & Restaurant   \n",
       "3           3  21st Amendment Brewery & Restaurant   \n",
       "4           4  21st Amendment Brewery & Restaurant   \n",
       "\n",
       "                                             cuisine     address  \\\n",
       "0  ['Cafe', 'Pub Food', 'American', 'Burgers', 'P...  563 2nd St   \n",
       "1  ['Cafe', 'Pub Food', 'American', 'Burgers', 'P...  563 2nd St   \n",
       "2  ['Cafe', 'Pub Food', 'American', 'Burgers', 'P...  563 2nd St   \n",
       "3  ['Cafe', 'Pub Food', 'American', 'Burgers', 'P...  563 2nd St   \n",
       "4  ['Cafe', 'Pub Food', 'American', 'Burgers', 'P...  563 2nd St   \n",
       "\n",
       "        locality region                                              hours  \\\n",
       "0  San Francisco     CA  {'monday': [['11:30', '23:59']], 'tuesday': [[...   \n",
       "1  San Francisco     CA  {'monday': [['11:30', '23:59']], 'tuesday': [[...   \n",
       "2  San Francisco     CA  {'monday': [['11:30', '23:59']], 'tuesday': [[...   \n",
       "3  San Francisco     CA  {'monday': [['11:30', '23:59']], 'tuesday': [[...   \n",
       "4  San Francisco     CA  {'monday': [['11:30', '23:59']], 'tuesday': [[...   \n",
       "\n",
       "                        email             tel             fax  \\\n",
       "0  new-pub@21st-amendment.com  (415) 369-0900  (415) 369-0909   \n",
       "1  new-pub@21st-amendment.com  (415) 369-0900  (415) 369-0909   \n",
       "2  new-pub@21st-amendment.com  (415) 369-0900  (415) 369-0909   \n",
       "3  new-pub@21st-amendment.com  (415) 369-0900  (415) 369-0909   \n",
       "4  new-pub@21st-amendment.com  (415) 369-0900  (415) 369-0909   \n",
       "\n",
       "             ...              latitude   longitude  price  rating  \\\n",
       "0            ...             37.782448 -122.392576      2     4.0   \n",
       "1            ...             37.782448 -122.392576      2     4.0   \n",
       "2            ...             37.782448 -122.392576      2     4.0   \n",
       "3            ...             37.782448 -122.392576      2     4.0   \n",
       "4            ...             37.782448 -122.392576      2     4.0   \n",
       "\n",
       "                                          review_url  \\\n",
       "0  https://www.tripadvisor.com/ShowUserReviews-g6...   \n",
       "1  https://www.tripadvisor.com/ShowUserReviews-g6...   \n",
       "2  https://www.tripadvisor.com/ShowUserReviews-g6...   \n",
       "3  https://www.tripadvisor.com/ShowUserReviews-g6...   \n",
       "4  https://www.tripadvisor.com/ShowUserReviews-g6...   \n",
       "\n",
       "                                 review_title  \\\n",
       "0                       Great drinks and food   \n",
       "1                        Good food &amp; beer   \n",
       "2                           Pretty good beers   \n",
       "3  Ridiculously overpriced (yes I live in SF)   \n",
       "4                                 Team dinner   \n",
       "\n",
       "                                         review_text  \\\n",
       "0  They have great local craft beers and probably...   \n",
       "1  We went to the downtown SF location. The resta...   \n",
       "2  I just came to this place for drinks with an o...   \n",
       "3  Mediocre food (not bad, just mediocre, you can...   \n",
       "4  We headed out for our team dinner to this esta...   \n",
       "\n",
       "                               tokenized_review_text review_rating  \\\n",
       "0  ['great', 'local', 'craft', 'beer', 'probably'...             4   \n",
       "1  ['went', 'downtown', 'sf', 'location', 'restau...             4   \n",
       "2  ['came', 'place', 'drink', 'old', 'colleague',...             4   \n",
       "3  ['mediocre', 'food', 'bad', 'mediocre', 'find'...             3   \n",
       "4  ['headed', 'team', 'dinner', 'establishment', ...             4   \n",
       "\n",
       "                review_date  \n",
       "0  Mar 28, 2016 12:00:00 AM  \n",
       "1  Mar 27, 2016 12:00:00 AM  \n",
       "2  Mar 16, 2016 12:00:00 AM  \n",
       "3   Mar 8, 2016 12:00:00 AM  \n",
       "4   Mar 1, 2016 12:00:00 AM  \n",
       "\n",
       "[5 rows x 22 columns]"
      ]
     },
     "execution_count": 2,
     "metadata": {},
     "output_type": "execute_result"
    }
   ],
   "source": [
    "df_restaurant_reviews = pd.read_csv('restaurant_reviews_tokenized.csv')\n",
    "df_restaurant_reviews.head()"
   ]
  },
  {
   "cell_type": "code",
   "execution_count": 4,
   "metadata": {},
   "outputs": [],
   "source": [
    "from sklearn.feature_extraction.text import CountVectorizer, TfidfVectorizer\n",
    "from sklearn.preprocessing import OneHotEncoder, LabelEncoder\n",
    "from sklearn.cross_validation import train_test_split\n",
    "from sklearn.model_selection import cross_val_score, cross_val_predict\n",
    "from sklearn.metrics import confusion_matrix"
   ]
  },
  {
   "cell_type": "markdown",
   "metadata": {},
   "source": [
    "<p> \n",
    "    The following block of code will be used to plot the confusion matrices for the Random Forest \n",
    "    Classifier.\n",
    "</p>"
   ]
  },
  {
   "cell_type": "code",
   "execution_count": 5,
   "metadata": {},
   "outputs": [],
   "source": [
    "def plot_confusion_matrix(cm, classes,\n",
    "                          normalize=False,\n",
    "                          title='Confusion matrix',\n",
    "                          cmap=plt.cm.Blues):\n",
    "    \"\"\"\n",
    "    This function prints and plots the confusion matrix.\n",
    "    Normalization can be applied by setting `normalize=True`.\n",
    "    \"\"\"\n",
    "    if normalize:\n",
    "        cm = cm.astype('float') / cm.sum(axis=1)[:, np.newaxis]\n",
    "        #print(\"Normalized confusion matrix\")\n",
    "    #else:\n",
    "        #print('Confusion matrix, without normalization')\n",
    "\n",
    "    #print(cm)\n",
    "\n",
    "    plt.imshow(cm, interpolation='nearest', cmap=cmap)\n",
    "    plt.title(title)\n",
    "    plt.colorbar()\n",
    "    tick_marks = np.arange(len(classes))\n",
    "    plt.xticks(tick_marks, classes, rotation=45)\n",
    "    plt.yticks(tick_marks, classes)\n",
    "\n",
    "    fmt = '.2f' if normalize else 'd'\n",
    "    thresh = cm.max() / 2.\n",
    "    for i, j in itertools.product(range(cm.shape[0]), range(cm.shape[1])):\n",
    "        plt.text(j, i, format(cm[i, j], fmt),\n",
    "                 horizontalalignment=\"center\",\n",
    "                 color=\"white\" if cm[i, j] > thresh else \"black\")\n",
    "\n",
    "    plt.ylabel('True label')\n",
    "    plt.xlabel('Predicted label')\n",
    "    plt.tight_layout()"
   ]
  },
  {
   "cell_type": "markdown",
   "metadata": {},
   "source": [
    "## XGBoost using Bag of Words"
   ]
  },
  {
   "cell_type": "markdown",
   "metadata": {},
   "source": [
    "<p> The following script here is subject to change. <br/>\n",
    "    The function definition below executes the following steps:\n",
    "    <ol>\n",
    "        <li>Vectorizes the restaurants reviews</li>\n",
    "        <li>One hot encodes the restaurant ratings</li>\n",
    "        <li>Executes cross validation on the model while recording its runtime</li>\n",
    "        <li>Prints the accuracy scores for 5-fold cross validation</li>\n",
    "        <li>Gets predicted ratings</li>\n",
    "        <li>Returns a tuple consisting of\n",
    "            <ul>\n",
    "                <li>runtime</li>\n",
    "                <li>5-fold cross validation scores</li>\n",
    "                <li>actual restaurant review ratings</li>\n",
    "                <li>predicted restaurant review ratings</li>\n",
    "            </ul>   \n",
    "        </li>\n",
    "    </ol>\n",
    "    The values returned will be used to analyze the performance\n",
    "    of the model.\n",
    "</p>"
   ]
  },
  {
   "cell_type": "code",
   "execution_count": 117,
   "metadata": {},
   "outputs": [],
   "source": [
    "import xgboost as xgb\n",
    "\n",
    "def xgb_classifier(X, y, vect_func, n_gram):\n",
    "    \n",
    "    #1. Vectorize the restaurant reviews\n",
    "    vect = vect_func(ngram_range=n_gram)\n",
    "    review_x = vect.fit_transform(X)\n",
    "    \n",
    "    #2. Label encodes all possible restaurant ratings\n",
    "    le = LabelEncoder()\n",
    "    label = le.fit_transform(y)\n",
    "    \n",
    "    #3. One hot encodes restaurant ratings\n",
    "    ohe = OneHotEncoder()\n",
    "    review_y = ohe.fit_transform(label.reshape(-1,1)).toarray()\n",
    "    review_y = np.argmax(review_y, axis=1)\n",
    "    \n",
    "    #4. Executing 5-fold cross validation and recording runtime\n",
    "    classifier = xgb.XGBClassifier(objective='multi:softmax', num_class=5)\n",
    "    \n",
    "    start = time.time()\n",
    "    scores = cross_val_score(classifier, review_x, review_y, cv=5)\n",
    "    end   = time.time()\n",
    "    \n",
    "    cv_runtime = round(end - start, 2)\n",
    "    \n",
    "    #5. Printing CV scores and corresponding runtime\n",
    "    print(\"XGB Classifier Accuracy: {}\".format(scores))\n",
    "    print(\"Runtime: {}\".format(cv_runtime))\n",
    "    \n",
    "    #6. Get restaurant ratings predicted by the model\n",
    "    y_pred = cross_val_predict(classifier, review_x, review_y, cv=5)\n",
    "    \n",
    "    #7. Return runtime, cv scores, actual rating, predicted rating\n",
    "    return (cv_runtime, scores, review_y, y_pred)"
   ]
  },
  {
   "cell_type": "markdown",
   "metadata": {},
   "source": [
    "## XGBoost Classifier Execution\n",
    "\n",
    "### 1-Gram"
   ]
  },
  {
   "cell_type": "code",
   "execution_count": 118,
   "metadata": {},
   "outputs": [
    {
     "name": "stdout",
     "output_type": "stream",
     "text": [
      "RF Classifier Accuracy: [0.57493188 0.58333333 0.6        0.59987875 0.5755003 ]\n",
      "Runtime: 190.83\n"
     ]
    }
   ],
   "source": [
    "time_1gram, scores_1gram, y_1gram, y_pred_1gram = xgb_classifier(df_restaurant_reviews['tokenized_review_text'], \n",
    "                                                                 df_restaurant_reviews['review_rating'], \n",
    "                                                                 CountVectorizer, (1,1))"
   ]
  },
  {
   "cell_type": "markdown",
   "metadata": {},
   "source": [
    "### 2-Gram"
   ]
  },
  {
   "cell_type": "code",
   "execution_count": 119,
   "metadata": {},
   "outputs": [
    {
     "name": "stdout",
     "output_type": "stream",
     "text": [
      "RF Classifier Accuracy: [0.5849228  0.58030303 0.59424242 0.60351622 0.57913887]\n",
      "Runtime: 2721.05\n"
     ]
    }
   ],
   "source": [
    "time_2gram, scores_2gram, y_2gram, y_pred_2gram = xgb_classifier(df_restaurant_reviews['tokenized_review_text'], \n",
    "                                                                 df_restaurant_reviews['review_rating'], \n",
    "                                                                 CountVectorizer, (1,2))"
   ]
  },
  {
   "cell_type": "markdown",
   "metadata": {},
   "source": [
    "### 3-Gram"
   ]
  },
  {
   "cell_type": "code",
   "execution_count": 120,
   "metadata": {},
   "outputs": [
    {
     "name": "stdout",
     "output_type": "stream",
     "text": [
      "RF Classifier Accuracy: [0.58552831 0.58121212 0.59333333 0.59836314 0.57277138]\n",
      "Runtime: 5240.84\n"
     ]
    }
   ],
   "source": [
    "time_3gram, scores_3gram, y_3gram, y_pred_3gram = xgb_classifier(df_restaurant_reviews['tokenized_review_text'], \n",
    "                                                                 df_restaurant_reviews['review_rating'], \n",
    "                                                                 CountVectorizer, (1,3))"
   ]
  },
  {
   "cell_type": "markdown",
   "metadata": {},
   "source": [
    "### 4-Gram"
   ]
  },
  {
   "cell_type": "code",
   "execution_count": 121,
   "metadata": {},
   "outputs": [
    {
     "name": "stdout",
     "output_type": "stream",
     "text": [
      "RF Classifier Accuracy: [0.58552831 0.58121212 0.59333333 0.59836314 0.57277138]\n",
      "Runtime: 57307.97\n"
     ]
    }
   ],
   "source": [
    "time_4gram, scores_4gram, y_4gram, y_pred_4gram = xgb_classifier(df_restaurant_reviews['tokenized_review_text'], \n",
    "                                                                 df_restaurant_reviews['review_rating'], \n",
    "                                                                 CountVectorizer, (1,4))"
   ]
  },
  {
   "cell_type": "markdown",
   "metadata": {},
   "source": [
    "### 5-Gram"
   ]
  },
  {
   "cell_type": "code",
   "execution_count": null,
   "metadata": {},
   "outputs": [],
   "source": [
    "time_5gram, scores_5gram, y_5gram, y_pred_5gram = xgb_classifier(df_restaurant_reviews['tokenized_review_text'], \n",
    "                                                                 df_restaurant_reviews['review_rating'], \n",
    "                                                                 CountVectorizer, (1,5))"
   ]
  },
  {
   "cell_type": "markdown",
   "metadata": {},
   "source": [
    "### Confusion Matrices for Model with respect to n-Gram"
   ]
  },
  {
   "cell_type": "code",
   "execution_count": null,
   "metadata": {},
   "outputs": [],
   "source": [
    "class_names = ['1', '2', '3', '4', '5']\n",
    "\n",
    "plt.subplots(figsize=(15, 8))\n",
    "plt.subplot(2, 3, 1)\n",
    "plot_confusion_matrix(confusion_matrix(y_1gram, y_pred_1gram), classes=class_names, title='XGB 1-gram')\n",
    "plt.subplot(2, 3, 2)\n",
    "plot_confusion_matrix(confusion_matrix(y_2gram, y_pred_2gram), classes=class_names, title='XGB 2-gram')\n",
    "plt.subplot(2, 3, 3)\n",
    "plot_confusion_matrix(confusion_matrix(y_3gram, y_pred_3gram), classes=class_names, title='XGB 3-gram')\n",
    "plt.subplot(2, 3, 4)\n",
    "plot_confusion_matrix(confusion_matrix(y_4gram, y_pred_4gram), classes=class_names, title='XGB 4-gram')\n",
    "plt.subplot(2, 3, 5)\n",
    "plot_confusion_matrix(confusion_matrix(y_5gram, y_pred_5gram), classes=class_names, title='XGB 5-gram')"
   ]
  },
  {
   "cell_type": "code",
   "execution_count": null,
   "metadata": {},
   "outputs": [],
   "source": [
    "runtimes = [time_1gram, time_2gram, time_3gram, time_4gram, time_5gram]\n",
    "accuracy = [scores_1gram.mean(), scores_2gram.mean(), scores_3gram.mean(), \\\n",
    "            scores_4gram.mean(), scores_5gram.mean()]\n",
    "index    = ['1-gram', '2-gram', '3-gram', '4-gram', '5-gram']\n",
    "\n",
    "results  = pd.DataFrame({'Runtime (s)': runtimes,\n",
    "                        'Accuracy': accuracy},\n",
    "                         index=index)\n",
    "results"
   ]
  },
  {
   "cell_type": "code",
   "execution_count": null,
   "metadata": {},
   "outputs": [],
   "source": [
    "plt.subplots(figsize=(15, 5))\n",
    "\n",
    "n_gram = [1, 2, 3, 4, 5]\n",
    "plt.subplot(1, 2, 1)\n",
    "_ = plt.plot(n_gram, runtimes, linestyle='-.', linewidth=3)\n",
    "_ = plt.xticks(n_gram)\n",
    "_ = plt.title('RF Runtime for 5-fold Cross Validation', fontsize=18)\n",
    "_ = plt.xlabel('n-Gram', fontsize=20)\n",
    "_ = plt.ylabel('Time (s)', fontsize=20)\n",
    "\n",
    "plt.subplot(1, 2, 2)\n",
    "_ = plt.plot(n_gram, accuracy, linestyle='-.', linewidth=3)\n",
    "_ = plt.xticks(n_gram)\n",
    "_ = plt.title('RF Mean Accuracy for 5-fold Cross Validation', fontsize=18)\n",
    "_ = plt.xlabel('n-Gram', fontsize=20)\n",
    "_ = plt.ylabel('Accuracy', fontsize=20)\n",
    "\n",
    "plt.show()"
   ]
  },
  {
   "cell_type": "code",
   "execution_count": 112,
   "metadata": {},
   "outputs": [],
   "source": [
    "cv = CountVectorizer(ngram_range=(1, 1))\n",
    "review_x = cv.fit_transform(df_restaurant_reviews['tokenized_review_text'])\n",
    "\n",
    "le = LabelEncoder()\n",
    "label = le.fit_transform(df_restaurant_reviews['review_rating'])\n",
    "\n",
    "ohe = OneHotEncoder()\n",
    "review_y = ohe.fit_transform(label.reshape(-1, 1)).toarray()\n",
    "review_y = np.argmax(review_y, axis=1)"
   ]
  },
  {
   "cell_type": "code",
   "execution_count": 113,
   "metadata": {},
   "outputs": [
    {
     "data": {
      "text/plain": [
       "(16500,)"
      ]
     },
     "execution_count": 113,
     "metadata": {},
     "output_type": "execute_result"
    }
   ],
   "source": [
    "review_y.shape"
   ]
  },
  {
   "cell_type": "code",
   "execution_count": 114,
   "metadata": {},
   "outputs": [
    {
     "ename": "AxisError",
     "evalue": "axis 1 is out of bounds for array of dimension 1",
     "output_type": "error",
     "traceback": [
      "\u001b[0;31m---------------------------------------------------------------------------\u001b[0m",
      "\u001b[0;31mAxisError\u001b[0m                                 Traceback (most recent call last)",
      "\u001b[0;32m<ipython-input-114-28048d84b7c7>\u001b[0m in \u001b[0;36m<module>\u001b[0;34m()\u001b[0m\n\u001b[0;32m----> 1\u001b[0;31m \u001b[0mnp\u001b[0m\u001b[0;34m.\u001b[0m\u001b[0margmax\u001b[0m\u001b[0;34m(\u001b[0m\u001b[0mreview_y\u001b[0m\u001b[0;34m,\u001b[0m \u001b[0maxis\u001b[0m\u001b[0;34m=\u001b[0m\u001b[0;36m1\u001b[0m\u001b[0;34m)\u001b[0m\u001b[0;34m.\u001b[0m\u001b[0mshape\u001b[0m\u001b[0;34m\u001b[0m\u001b[0m\n\u001b[0m",
      "\u001b[0;32m/anaconda3/lib/python3.6/site-packages/numpy/core/fromnumeric.py\u001b[0m in \u001b[0;36margmax\u001b[0;34m(a, axis, out)\u001b[0m\n\u001b[1;32m   1002\u001b[0m \u001b[0;34m\u001b[0m\u001b[0m\n\u001b[1;32m   1003\u001b[0m     \"\"\"\n\u001b[0;32m-> 1004\u001b[0;31m     \u001b[0;32mreturn\u001b[0m \u001b[0m_wrapfunc\u001b[0m\u001b[0;34m(\u001b[0m\u001b[0ma\u001b[0m\u001b[0;34m,\u001b[0m \u001b[0;34m'argmax'\u001b[0m\u001b[0;34m,\u001b[0m \u001b[0maxis\u001b[0m\u001b[0;34m=\u001b[0m\u001b[0maxis\u001b[0m\u001b[0;34m,\u001b[0m \u001b[0mout\u001b[0m\u001b[0;34m=\u001b[0m\u001b[0mout\u001b[0m\u001b[0;34m)\u001b[0m\u001b[0;34m\u001b[0m\u001b[0m\n\u001b[0m\u001b[1;32m   1005\u001b[0m \u001b[0;34m\u001b[0m\u001b[0m\n\u001b[1;32m   1006\u001b[0m \u001b[0;34m\u001b[0m\u001b[0m\n",
      "\u001b[0;32m/anaconda3/lib/python3.6/site-packages/numpy/core/fromnumeric.py\u001b[0m in \u001b[0;36m_wrapfunc\u001b[0;34m(obj, method, *args, **kwds)\u001b[0m\n\u001b[1;32m     50\u001b[0m \u001b[0;32mdef\u001b[0m \u001b[0m_wrapfunc\u001b[0m\u001b[0;34m(\u001b[0m\u001b[0mobj\u001b[0m\u001b[0;34m,\u001b[0m \u001b[0mmethod\u001b[0m\u001b[0;34m,\u001b[0m \u001b[0;34m*\u001b[0m\u001b[0margs\u001b[0m\u001b[0;34m,\u001b[0m \u001b[0;34m**\u001b[0m\u001b[0mkwds\u001b[0m\u001b[0;34m)\u001b[0m\u001b[0;34m:\u001b[0m\u001b[0;34m\u001b[0m\u001b[0m\n\u001b[1;32m     51\u001b[0m     \u001b[0;32mtry\u001b[0m\u001b[0;34m:\u001b[0m\u001b[0;34m\u001b[0m\u001b[0m\n\u001b[0;32m---> 52\u001b[0;31m         \u001b[0;32mreturn\u001b[0m \u001b[0mgetattr\u001b[0m\u001b[0;34m(\u001b[0m\u001b[0mobj\u001b[0m\u001b[0;34m,\u001b[0m \u001b[0mmethod\u001b[0m\u001b[0;34m)\u001b[0m\u001b[0;34m(\u001b[0m\u001b[0;34m*\u001b[0m\u001b[0margs\u001b[0m\u001b[0;34m,\u001b[0m \u001b[0;34m**\u001b[0m\u001b[0mkwds\u001b[0m\u001b[0;34m)\u001b[0m\u001b[0;34m\u001b[0m\u001b[0m\n\u001b[0m\u001b[1;32m     53\u001b[0m \u001b[0;34m\u001b[0m\u001b[0m\n\u001b[1;32m     54\u001b[0m     \u001b[0;31m# An AttributeError occurs if the object does not have\u001b[0m\u001b[0;34m\u001b[0m\u001b[0;34m\u001b[0m\u001b[0m\n",
      "\u001b[0;31mAxisError\u001b[0m: axis 1 is out of bounds for array of dimension 1"
     ]
    }
   ],
   "source": [
    "np.argmax(review_y, axis=1).shape"
   ]
  },
  {
   "cell_type": "code",
   "execution_count": 57,
   "metadata": {},
   "outputs": [
    {
     "name": "stdout",
     "output_type": "stream",
     "text": [
      "  (0, 5967)\t1\n",
      "  (0, 7419)\t1\n",
      "  (0, 13570)\t1\n",
      "  (0, 12754)\t1\n",
      "  (0, 12181)\t1\n",
      "  (0, 13190)\t1\n",
      "  (0, 20010)\t1\n",
      "  (0, 14033)\t1\n",
      "  (0, 4209)\t1\n",
      "  (0, 3083)\t1\n",
      "  (0, 19740)\t1\n",
      "  (0, 8135)\t1\n",
      "  (0, 13556)\t1\n",
      "  (0, 18638)\t1\n",
      "  (0, 1034)\t1\n",
      "  (0, 15192)\t1\n",
      "  (0, 13791)\t1\n",
      "  (0, 2233)\t1\n",
      "  (0, 12540)\t1\n",
      "  (0, 14096)\t1\n",
      "  (0, 2099)\t1\n",
      "  (0, 4715)\t1\n",
      "  (0, 10682)\t1\n",
      "  (0, 8286)\t2\n"
     ]
    }
   ],
   "source": [
    "print(review_x[0])"
   ]
  },
  {
   "cell_type": "code",
   "execution_count": 58,
   "metadata": {
    "scrolled": true
   },
   "outputs": [
    {
     "data": {
      "text/plain": [
       "[array(['drink', 'food', 'place', 'overall', 'night', 'paying', 'work',\n",
       "        'price', 'comment', 'ca', 'well', 'good', 'pizza', 'tried', 'also',\n",
       "        'rib', 'pork', 'best', 'one', 'probably', 'beer', 'craft', 'local',\n",
       "        'great'], dtype='<U25')]"
      ]
     },
     "execution_count": 58,
     "metadata": {},
     "output_type": "execute_result"
    }
   ],
   "source": [
    "cv.inverse_transform(review_x[0])"
   ]
  },
  {
   "cell_type": "code",
   "execution_count": 59,
   "metadata": {},
   "outputs": [
    {
     "data": {
      "text/plain": [
       "(16500, 20294)"
      ]
     },
     "execution_count": 59,
     "metadata": {},
     "output_type": "execute_result"
    }
   ],
   "source": [
    "review_x.shape"
   ]
  },
  {
   "cell_type": "code",
   "execution_count": 61,
   "metadata": {},
   "outputs": [],
   "source": [
    "import xgboost as xgb"
   ]
  },
  {
   "cell_type": "code",
   "execution_count": 116,
   "metadata": {},
   "outputs": [
    {
     "name": "stdout",
     "output_type": "stream",
     "text": [
      "0.6212121212121212\n"
     ]
    }
   ],
   "source": [
    "X_train, X_test, y_train, y_test = train_test_split(review_x, review_y, test_size=0.2, random_state=42)\n",
    "\n",
    "xgb_model = xgb.XGBClassifier(objective='multi:softmax', num_class=5)\n",
    "#X_train = xgb.DMatrix(X_train)\n",
    "#X_test  = xgb.DMatrix(X_test)\n",
    "#y_train = xgb.DMatrix(y_train)\n",
    "#y_test  = xgb.DMatrix(y_test)\n",
    "xgb_model.fit(X_train, y_train)\n",
    "\n",
    "y_pred = xgb_model.predict(X_test)\n",
    "from sklearn.metrics import accuracy_score\n",
    "print(accuracy_score(y_test, y_pred))\n",
    "#print(X_train.shape)\n",
    "#print(y_train.shape)\n",
    "#print(review_x.shape)\n",
    "#print(review_y.shape)"
   ]
  },
  {
   "cell_type": "code",
   "execution_count": 88,
   "metadata": {},
   "outputs": [
    {
     "data": {
      "text/plain": [
       "(scipy.sparse.csr.csr_matrix, (13200, 20294))"
      ]
     },
     "execution_count": 88,
     "metadata": {},
     "output_type": "execute_result"
    }
   ],
   "source": [
    "type(X_train), X_train.shape"
   ]
  },
  {
   "cell_type": "code",
   "execution_count": 89,
   "metadata": {},
   "outputs": [
    {
     "data": {
      "text/plain": [
       "(numpy.ndarray, (13200, 5))"
      ]
     },
     "execution_count": 89,
     "metadata": {},
     "output_type": "execute_result"
    }
   ],
   "source": [
    "type(y_train), y_train.shape"
   ]
  },
  {
   "cell_type": "code",
   "execution_count": 104,
   "metadata": {},
   "outputs": [
    {
     "data": {
      "text/plain": [
       "(13200, 5)"
      ]
     },
     "execution_count": 104,
     "metadata": {},
     "output_type": "execute_result"
    }
   ],
   "source": [
    "y_train.shape"
   ]
  },
  {
   "cell_type": "code",
   "execution_count": null,
   "metadata": {},
   "outputs": [],
   "source": []
  }
 ],
 "metadata": {
  "kernelspec": {
   "display_name": "Python 3",
   "language": "python",
   "name": "python3"
  },
  "language_info": {
   "codemirror_mode": {
    "name": "ipython",
    "version": 3
   },
   "file_extension": ".py",
   "mimetype": "text/x-python",
   "name": "python",
   "nbconvert_exporter": "python",
   "pygments_lexer": "ipython3",
   "version": "3.6.5"
  }
 },
 "nbformat": 4,
 "nbformat_minor": 2
}
