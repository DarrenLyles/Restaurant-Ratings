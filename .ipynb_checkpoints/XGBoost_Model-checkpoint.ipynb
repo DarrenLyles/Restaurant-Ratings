{
 "cells": [
  {
   "cell_type": "markdown",
   "metadata": {},
   "source": [
    "## San Francisco Restaurant Reviews Machine Learning Stage\n",
    "## XGBoost Classifier\n",
    "### Darren Lyles"
   ]
  },
  {
   "cell_type": "markdown",
   "metadata": {},
   "source": [
    "<p>\n",
    "    Here, I will be using the XGBoost model on restaurant reviews and their \n",
    "    corresponding ratings for restaurants in San Francisco.\n",
    "</p>"
   ]
  },
  {
   "cell_type": "code",
   "execution_count": 1,
   "metadata": {},
   "outputs": [],
   "source": [
    "import nltk\n",
    "import pandas as pd\n",
    "import matplotlib.pyplot as plt\n",
    "import numpy as np\n",
    "import itertools\n",
    "import time\n",
    "import warnings\n",
    "warnings.filterwarnings(\"ignore\")"
   ]
  },
  {
   "cell_type": "code",
   "execution_count": 2,
   "metadata": {},
   "outputs": [
    {
     "data": {
      "text/html": [
       "<div>\n",
       "<style scoped>\n",
       "    .dataframe tbody tr th:only-of-type {\n",
       "        vertical-align: middle;\n",
       "    }\n",
       "\n",
       "    .dataframe tbody tr th {\n",
       "        vertical-align: top;\n",
       "    }\n",
       "\n",
       "    .dataframe thead th {\n",
       "        text-align: right;\n",
       "    }\n",
       "</style>\n",
       "<table border=\"1\" class=\"dataframe\">\n",
       "  <thead>\n",
       "    <tr style=\"text-align: right;\">\n",
       "      <th></th>\n",
       "      <th>Unnamed: 0</th>\n",
       "      <th>name</th>\n",
       "      <th>cuisine</th>\n",
       "      <th>address</th>\n",
       "      <th>locality</th>\n",
       "      <th>region</th>\n",
       "      <th>hours</th>\n",
       "      <th>email</th>\n",
       "      <th>tel</th>\n",
       "      <th>fax</th>\n",
       "      <th>...</th>\n",
       "      <th>latitude</th>\n",
       "      <th>longitude</th>\n",
       "      <th>price</th>\n",
       "      <th>rating</th>\n",
       "      <th>review_url</th>\n",
       "      <th>review_title</th>\n",
       "      <th>review_text</th>\n",
       "      <th>tokenized_review_text</th>\n",
       "      <th>review_rating</th>\n",
       "      <th>review_date</th>\n",
       "    </tr>\n",
       "  </thead>\n",
       "  <tbody>\n",
       "    <tr>\n",
       "      <th>0</th>\n",
       "      <td>0</td>\n",
       "      <td>21st Amendment Brewery &amp; Restaurant</td>\n",
       "      <td>['Cafe', 'Pub Food', 'American', 'Burgers', 'P...</td>\n",
       "      <td>563 2nd St</td>\n",
       "      <td>San Francisco</td>\n",
       "      <td>CA</td>\n",
       "      <td>{'monday': [['11:30', '23:59']], 'tuesday': [[...</td>\n",
       "      <td>new-pub@21st-amendment.com</td>\n",
       "      <td>(415) 369-0900</td>\n",
       "      <td>(415) 369-0909</td>\n",
       "      <td>...</td>\n",
       "      <td>37.782448</td>\n",
       "      <td>-122.392576</td>\n",
       "      <td>2</td>\n",
       "      <td>4.0</td>\n",
       "      <td>https://www.tripadvisor.com/ShowUserReviews-g6...</td>\n",
       "      <td>Great drinks and food</td>\n",
       "      <td>They have great local craft beers and probably...</td>\n",
       "      <td>['great', 'local', 'craft', 'beer', 'probably'...</td>\n",
       "      <td>4</td>\n",
       "      <td>Mar 28, 2016 12:00:00 AM</td>\n",
       "    </tr>\n",
       "    <tr>\n",
       "      <th>1</th>\n",
       "      <td>1</td>\n",
       "      <td>21st Amendment Brewery &amp; Restaurant</td>\n",
       "      <td>['Cafe', 'Pub Food', 'American', 'Burgers', 'P...</td>\n",
       "      <td>563 2nd St</td>\n",
       "      <td>San Francisco</td>\n",
       "      <td>CA</td>\n",
       "      <td>{'monday': [['11:30', '23:59']], 'tuesday': [[...</td>\n",
       "      <td>new-pub@21st-amendment.com</td>\n",
       "      <td>(415) 369-0900</td>\n",
       "      <td>(415) 369-0909</td>\n",
       "      <td>...</td>\n",
       "      <td>37.782448</td>\n",
       "      <td>-122.392576</td>\n",
       "      <td>2</td>\n",
       "      <td>4.0</td>\n",
       "      <td>https://www.tripadvisor.com/ShowUserReviews-g6...</td>\n",
       "      <td>Good food &amp;amp; beer</td>\n",
       "      <td>We went to the downtown SF location. The resta...</td>\n",
       "      <td>['went', 'downtown', 'sf', 'location', 'restau...</td>\n",
       "      <td>4</td>\n",
       "      <td>Mar 27, 2016 12:00:00 AM</td>\n",
       "    </tr>\n",
       "    <tr>\n",
       "      <th>2</th>\n",
       "      <td>2</td>\n",
       "      <td>21st Amendment Brewery &amp; Restaurant</td>\n",
       "      <td>['Cafe', 'Pub Food', 'American', 'Burgers', 'P...</td>\n",
       "      <td>563 2nd St</td>\n",
       "      <td>San Francisco</td>\n",
       "      <td>CA</td>\n",
       "      <td>{'monday': [['11:30', '23:59']], 'tuesday': [[...</td>\n",
       "      <td>new-pub@21st-amendment.com</td>\n",
       "      <td>(415) 369-0900</td>\n",
       "      <td>(415) 369-0909</td>\n",
       "      <td>...</td>\n",
       "      <td>37.782448</td>\n",
       "      <td>-122.392576</td>\n",
       "      <td>2</td>\n",
       "      <td>4.0</td>\n",
       "      <td>https://www.tripadvisor.com/ShowUserReviews-g6...</td>\n",
       "      <td>Pretty good beers</td>\n",
       "      <td>I just came to this place for drinks with an o...</td>\n",
       "      <td>['came', 'place', 'drink', 'old', 'colleague',...</td>\n",
       "      <td>4</td>\n",
       "      <td>Mar 16, 2016 12:00:00 AM</td>\n",
       "    </tr>\n",
       "    <tr>\n",
       "      <th>3</th>\n",
       "      <td>3</td>\n",
       "      <td>21st Amendment Brewery &amp; Restaurant</td>\n",
       "      <td>['Cafe', 'Pub Food', 'American', 'Burgers', 'P...</td>\n",
       "      <td>563 2nd St</td>\n",
       "      <td>San Francisco</td>\n",
       "      <td>CA</td>\n",
       "      <td>{'monday': [['11:30', '23:59']], 'tuesday': [[...</td>\n",
       "      <td>new-pub@21st-amendment.com</td>\n",
       "      <td>(415) 369-0900</td>\n",
       "      <td>(415) 369-0909</td>\n",
       "      <td>...</td>\n",
       "      <td>37.782448</td>\n",
       "      <td>-122.392576</td>\n",
       "      <td>2</td>\n",
       "      <td>4.0</td>\n",
       "      <td>https://www.tripadvisor.com/ShowUserReviews-g6...</td>\n",
       "      <td>Ridiculously overpriced (yes I live in SF)</td>\n",
       "      <td>Mediocre food (not bad, just mediocre, you can...</td>\n",
       "      <td>['mediocre', 'food', 'bad', 'mediocre', 'find'...</td>\n",
       "      <td>3</td>\n",
       "      <td>Mar 8, 2016 12:00:00 AM</td>\n",
       "    </tr>\n",
       "    <tr>\n",
       "      <th>4</th>\n",
       "      <td>4</td>\n",
       "      <td>21st Amendment Brewery &amp; Restaurant</td>\n",
       "      <td>['Cafe', 'Pub Food', 'American', 'Burgers', 'P...</td>\n",
       "      <td>563 2nd St</td>\n",
       "      <td>San Francisco</td>\n",
       "      <td>CA</td>\n",
       "      <td>{'monday': [['11:30', '23:59']], 'tuesday': [[...</td>\n",
       "      <td>new-pub@21st-amendment.com</td>\n",
       "      <td>(415) 369-0900</td>\n",
       "      <td>(415) 369-0909</td>\n",
       "      <td>...</td>\n",
       "      <td>37.782448</td>\n",
       "      <td>-122.392576</td>\n",
       "      <td>2</td>\n",
       "      <td>4.0</td>\n",
       "      <td>https://www.tripadvisor.com/ShowUserReviews-g6...</td>\n",
       "      <td>Team dinner</td>\n",
       "      <td>We headed out for our team dinner to this esta...</td>\n",
       "      <td>['headed', 'team', 'dinner', 'establishment', ...</td>\n",
       "      <td>4</td>\n",
       "      <td>Mar 1, 2016 12:00:00 AM</td>\n",
       "    </tr>\n",
       "  </tbody>\n",
       "</table>\n",
       "<p>5 rows × 22 columns</p>\n",
       "</div>"
      ],
      "text/plain": [
       "   Unnamed: 0                                 name  \\\n",
       "0           0  21st Amendment Brewery & Restaurant   \n",
       "1           1  21st Amendment Brewery & Restaurant   \n",
       "2           2  21st Amendment Brewery & Restaurant   \n",
       "3           3  21st Amendment Brewery & Restaurant   \n",
       "4           4  21st Amendment Brewery & Restaurant   \n",
       "\n",
       "                                             cuisine     address  \\\n",
       "0  ['Cafe', 'Pub Food', 'American', 'Burgers', 'P...  563 2nd St   \n",
       "1  ['Cafe', 'Pub Food', 'American', 'Burgers', 'P...  563 2nd St   \n",
       "2  ['Cafe', 'Pub Food', 'American', 'Burgers', 'P...  563 2nd St   \n",
       "3  ['Cafe', 'Pub Food', 'American', 'Burgers', 'P...  563 2nd St   \n",
       "4  ['Cafe', 'Pub Food', 'American', 'Burgers', 'P...  563 2nd St   \n",
       "\n",
       "        locality region                                              hours  \\\n",
       "0  San Francisco     CA  {'monday': [['11:30', '23:59']], 'tuesday': [[...   \n",
       "1  San Francisco     CA  {'monday': [['11:30', '23:59']], 'tuesday': [[...   \n",
       "2  San Francisco     CA  {'monday': [['11:30', '23:59']], 'tuesday': [[...   \n",
       "3  San Francisco     CA  {'monday': [['11:30', '23:59']], 'tuesday': [[...   \n",
       "4  San Francisco     CA  {'monday': [['11:30', '23:59']], 'tuesday': [[...   \n",
       "\n",
       "                        email             tel             fax  \\\n",
       "0  new-pub@21st-amendment.com  (415) 369-0900  (415) 369-0909   \n",
       "1  new-pub@21st-amendment.com  (415) 369-0900  (415) 369-0909   \n",
       "2  new-pub@21st-amendment.com  (415) 369-0900  (415) 369-0909   \n",
       "3  new-pub@21st-amendment.com  (415) 369-0900  (415) 369-0909   \n",
       "4  new-pub@21st-amendment.com  (415) 369-0900  (415) 369-0909   \n",
       "\n",
       "             ...              latitude   longitude  price  rating  \\\n",
       "0            ...             37.782448 -122.392576      2     4.0   \n",
       "1            ...             37.782448 -122.392576      2     4.0   \n",
       "2            ...             37.782448 -122.392576      2     4.0   \n",
       "3            ...             37.782448 -122.392576      2     4.0   \n",
       "4            ...             37.782448 -122.392576      2     4.0   \n",
       "\n",
       "                                          review_url  \\\n",
       "0  https://www.tripadvisor.com/ShowUserReviews-g6...   \n",
       "1  https://www.tripadvisor.com/ShowUserReviews-g6...   \n",
       "2  https://www.tripadvisor.com/ShowUserReviews-g6...   \n",
       "3  https://www.tripadvisor.com/ShowUserReviews-g6...   \n",
       "4  https://www.tripadvisor.com/ShowUserReviews-g6...   \n",
       "\n",
       "                                 review_title  \\\n",
       "0                       Great drinks and food   \n",
       "1                        Good food &amp; beer   \n",
       "2                           Pretty good beers   \n",
       "3  Ridiculously overpriced (yes I live in SF)   \n",
       "4                                 Team dinner   \n",
       "\n",
       "                                         review_text  \\\n",
       "0  They have great local craft beers and probably...   \n",
       "1  We went to the downtown SF location. The resta...   \n",
       "2  I just came to this place for drinks with an o...   \n",
       "3  Mediocre food (not bad, just mediocre, you can...   \n",
       "4  We headed out for our team dinner to this esta...   \n",
       "\n",
       "                               tokenized_review_text review_rating  \\\n",
       "0  ['great', 'local', 'craft', 'beer', 'probably'...             4   \n",
       "1  ['went', 'downtown', 'sf', 'location', 'restau...             4   \n",
       "2  ['came', 'place', 'drink', 'old', 'colleague',...             4   \n",
       "3  ['mediocre', 'food', 'bad', 'mediocre', 'find'...             3   \n",
       "4  ['headed', 'team', 'dinner', 'establishment', ...             4   \n",
       "\n",
       "                review_date  \n",
       "0  Mar 28, 2016 12:00:00 AM  \n",
       "1  Mar 27, 2016 12:00:00 AM  \n",
       "2  Mar 16, 2016 12:00:00 AM  \n",
       "3   Mar 8, 2016 12:00:00 AM  \n",
       "4   Mar 1, 2016 12:00:00 AM  \n",
       "\n",
       "[5 rows x 22 columns]"
      ]
     },
     "execution_count": 2,
     "metadata": {},
     "output_type": "execute_result"
    }
   ],
   "source": [
    "df_restaurant_reviews = pd.read_csv('restaurant_reviews_tokenized.csv')\n",
    "df_restaurant_reviews.head()"
   ]
  },
  {
   "cell_type": "code",
   "execution_count": 3,
   "metadata": {},
   "outputs": [],
   "source": [
    "from sklearn.feature_extraction.text import CountVectorizer, TfidfVectorizer\n",
    "from sklearn.preprocessing import OneHotEncoder, LabelEncoder\n",
    "from sklearn.cross_validation import train_test_split\n",
    "from sklearn.model_selection import cross_val_score, cross_val_predict\n",
    "from sklearn.metrics import confusion_matrix"
   ]
  },
  {
   "cell_type": "markdown",
   "metadata": {},
   "source": [
    "<p> \n",
    "    The following block of code will be used to plot the confusion matrices for the Random Forest \n",
    "    Classifier.\n",
    "</p>"
   ]
  },
  {
   "cell_type": "code",
   "execution_count": 4,
   "metadata": {},
   "outputs": [],
   "source": [
    "def plot_confusion_matrix(cm, classes,\n",
    "                          normalize=False,\n",
    "                          title='Confusion matrix',\n",
    "                          cmap=plt.cm.Blues):\n",
    "    \"\"\"\n",
    "    This function prints and plots the confusion matrix.\n",
    "    Normalization can be applied by setting `normalize=True`.\n",
    "    \"\"\"\n",
    "    if normalize:\n",
    "        cm = cm.astype('float') / cm.sum(axis=1)[:, np.newaxis]\n",
    "        #print(\"Normalized confusion matrix\")\n",
    "    #else:\n",
    "        #print('Confusion matrix, without normalization')\n",
    "\n",
    "    #print(cm)\n",
    "\n",
    "    plt.imshow(cm, interpolation='nearest', cmap=cmap)\n",
    "    plt.title(title)\n",
    "    plt.colorbar()\n",
    "    tick_marks = np.arange(len(classes))\n",
    "    plt.xticks(tick_marks, classes, rotation=45)\n",
    "    plt.yticks(tick_marks, classes)\n",
    "\n",
    "    fmt = '.2f' if normalize else 'd'\n",
    "    thresh = cm.max() / 2.\n",
    "    for i, j in itertools.product(range(cm.shape[0]), range(cm.shape[1])):\n",
    "        plt.text(j, i, format(cm[i, j], fmt),\n",
    "                 horizontalalignment=\"center\",\n",
    "                 color=\"white\" if cm[i, j] > thresh else \"black\")\n",
    "\n",
    "    plt.ylabel('True label')\n",
    "    plt.xlabel('Predicted label')\n",
    "    plt.tight_layout()"
   ]
  },
  {
   "cell_type": "markdown",
   "metadata": {},
   "source": [
    "## XGBoost using Bag of Words"
   ]
  },
  {
   "cell_type": "markdown",
   "metadata": {},
   "source": [
    "<p> The following script here is subject to change. <br/>\n",
    "    The function definition below executes the following steps:\n",
    "    <ol>\n",
    "        <li>Vectorizes the restaurants reviews</li>\n",
    "        <li>One hot encodes the restaurant ratings</li>\n",
    "        <li>Executes cross validation on the model while recording its runtime</li>\n",
    "        <li>Prints the accuracy scores for 5-fold cross validation</li>\n",
    "        <li>Gets predicted ratings</li>\n",
    "        <li>Returns a tuple consisting of\n",
    "            <ul>\n",
    "                <li>runtime</li>\n",
    "                <li>5-fold cross validation scores</li>\n",
    "                <li>actual restaurant review ratings</li>\n",
    "                <li>predicted restaurant review ratings</li>\n",
    "            </ul>   \n",
    "        </li>\n",
    "    </ol>\n",
    "    The values returned will be used to analyze the performance\n",
    "    of the model.\n",
    "</p>"
   ]
  },
  {
   "cell_type": "code",
   "execution_count": 5,
   "metadata": {},
   "outputs": [],
   "source": [
    "import xgboost as xgb\n",
    "\n",
    "def xgb_classifier(X, y, vect_func, n_gram):\n",
    "    \n",
    "    #1. Vectorize the restaurant reviews\n",
    "    vect = vect_func(ngram_range=n_gram)\n",
    "    review_x = vect.fit_transform(X)\n",
    "    \n",
    "    #2. Label encodes all possible restaurant ratings\n",
    "    le = LabelEncoder()\n",
    "    label = le.fit_transform(y)\n",
    "    \n",
    "    #3. One hot encodes restaurant ratings\n",
    "    ohe = OneHotEncoder()\n",
    "    review_y = ohe.fit_transform(label.reshape(-1,1)).toarray()\n",
    "    review_y = np.argmax(review_y, axis=1)\n",
    "    \n",
    "    #4. Executing 5-fold cross validation and recording runtime\n",
    "    classifier = xgb.XGBClassifier(objective='multi:softmax', num_class=5)\n",
    "    \n",
    "    start = time.time()\n",
    "    scores = cross_val_score(classifier, review_x, review_y, cv=5)\n",
    "    end   = time.time()\n",
    "    \n",
    "    cv_runtime = round(end - start, 2)\n",
    "    \n",
    "    #5. Printing CV scores and corresponding runtime\n",
    "    print(\"XGB Classifier Accuracy: {}\".format(scores))\n",
    "    print(\"Runtime: {}\".format(cv_runtime))\n",
    "    \n",
    "    #6. Get restaurant ratings predicted by the model\n",
    "    y_pred = cross_val_predict(classifier, review_x, review_y, cv=5)\n",
    "    \n",
    "    #7. Return runtime, cv scores, actual rating, predicted rating\n",
    "    return (cv_runtime, scores, review_y, y_pred)"
   ]
  },
  {
   "cell_type": "markdown",
   "metadata": {},
   "source": [
    "## XGBoost Classifier Using CountVectorizer\n",
    "\n",
    "### 1-Gram"
   ]
  },
  {
   "cell_type": "code",
   "execution_count": 6,
   "metadata": {},
   "outputs": [
    {
     "name": "stdout",
     "output_type": "stream",
     "text": [
      "XGB Classifier Accuracy: [0.57493188 0.58333333 0.6        0.59987875 0.5755003 ]\n",
      "Runtime: 187.38\n"
     ]
    }
   ],
   "source": [
    "time_1gram, scores_1gram, y_1gram, y_pred_1gram = xgb_classifier(df_restaurant_reviews['tokenized_review_text'], \n",
    "                                                                 df_restaurant_reviews['review_rating'], \n",
    "                                                                 CountVectorizer, (1,1))"
   ]
  },
  {
   "cell_type": "markdown",
   "metadata": {},
   "source": [
    "### 2-Gram"
   ]
  },
  {
   "cell_type": "code",
   "execution_count": null,
   "metadata": {
    "scrolled": true
   },
   "outputs": [
    {
     "name": "stdout",
     "output_type": "stream",
     "text": [
      "XGB Classifier Accuracy: [0.5849228  0.58030303 0.59424242 0.60351622 0.57913887]\n",
      "Runtime: 3210.29\n"
     ]
    }
   ],
   "source": [
    "time_2gram, scores_2gram, y_2gram, y_pred_2gram = xgb_classifier(df_restaurant_reviews['tokenized_review_text'], \n",
    "                                                                 df_restaurant_reviews['review_rating'], \n",
    "                                                                 CountVectorizer, (1,2))"
   ]
  },
  {
   "cell_type": "markdown",
   "metadata": {},
   "source": [
    "### 3-Gram"
   ]
  },
  {
   "cell_type": "code",
   "execution_count": null,
   "metadata": {},
   "outputs": [],
   "source": [
    "time_3gram, scores_3gram, y_3gram, y_pred_3gram = xgb_classifier(df_restaurant_reviews['tokenized_review_text'], \n",
    "                                                                 df_restaurant_reviews['review_rating'], \n",
    "                                                                 CountVectorizer, (1,3))"
   ]
  },
  {
   "cell_type": "markdown",
   "metadata": {},
   "source": [
    "### Confusion Matrices for Model with respect to n-Gram"
   ]
  },
  {
   "cell_type": "code",
   "execution_count": null,
   "metadata": {},
   "outputs": [],
   "source": [
    "class_names = ['1', '2', '3', '4', '5']\n",
    "\n",
    "plt.subplots(figsize=(15, 8))\n",
    "plt.subplot(2, 3, 1)\n",
    "plot_confusion_matrix(confusion_matrix(y_1gram, y_pred_1gram), classes=class_names, title='XGB 1-gram')\n",
    "plt.subplot(2, 3, 2)\n",
    "plot_confusion_matrix(confusion_matrix(y_2gram, y_pred_2gram), classes=class_names, title='XGB 2-gram')\n",
    "plt.subplot(2, 3, 3)\n",
    "plot_confusion_matrix(confusion_matrix(y_3gram, y_pred_3gram), classes=class_names, title='XGB 3-gram')"
   ]
  },
  {
   "cell_type": "code",
   "execution_count": null,
   "metadata": {},
   "outputs": [],
   "source": [
    "runtimes = [time_1gram, time_2gram, time_3gram]\n",
    "accuracy = [scores_1gram.mean(), scores_2gram.mean(), scores_3gram.mean()]\n",
    "index    = ['1-gram', '2-gram', '3-gram']\n",
    "\n",
    "results  = pd.DataFrame({'Runtime (s)': runtimes,\n",
    "                        'Accuracy': accuracy},\n",
    "                         index=index)\n",
    "results"
   ]
  },
  {
   "cell_type": "code",
   "execution_count": null,
   "metadata": {
    "scrolled": true
   },
   "outputs": [],
   "source": [
    "plt.subplots(figsize=(15, 5))\n",
    "\n",
    "n_gram = [1, 2, 3]\n",
    "plt.subplot(1, 2, 1)\n",
    "_ = plt.plot(n_gram, runtimes, linestyle='-.', linewidth=3)\n",
    "_ = plt.xticks(n_gram)\n",
    "_ = plt.title('XGB Runtime for 5-fold Cross Validation', fontsize=18)\n",
    "_ = plt.xlabel('n-Gram', fontsize=20)\n",
    "_ = plt.ylabel('Time (s)', fontsize=20)\n",
    "\n",
    "plt.subplot(1, 2, 2)\n",
    "_ = plt.plot(n_gram, accuracy, linestyle='-.', linewidth=3)\n",
    "_ = plt.xticks(n_gram)\n",
    "_ = plt.title('XGB Mean Accuracy for 5-fold Cross Validation', fontsize=18)\n",
    "_ = plt.xlabel('n-Gram', fontsize=20)\n",
    "_ = plt.ylabel('Accuracy', fontsize=20)\n",
    "\n",
    "plt.show()"
   ]
  },
  {
   "cell_type": "markdown",
   "metadata": {},
   "source": [
    "## XGBoost Classifier Using TF-IDF Vectorization\n",
    "\n",
    "### 1-Gram"
   ]
  },
  {
   "cell_type": "code",
   "execution_count": null,
   "metadata": {},
   "outputs": [],
   "source": [
    "time_1gram_tfidf, scores_1gram_tfidf, \\\n",
    "y_1gram_tfidf, y_pred_1gram_tfidf = xgb_classifier(df_restaurant_reviews['review_text'], \n",
    "                                                                 df_restaurant_reviews['review_rating'], \n",
    "                                                                 TfidfVectorizer, (1,1))"
   ]
  },
  {
   "cell_type": "markdown",
   "metadata": {},
   "source": [
    "### 2-Gram"
   ]
  },
  {
   "cell_type": "code",
   "execution_count": null,
   "metadata": {},
   "outputs": [],
   "source": [
    "time_2gram_tfidf, scores_2gram_tfidf, \\\n",
    "y_2gram_tfidf, y_pred_2gram_tfidf = xgb_classifier(df_restaurant_reviews['review_text'], \n",
    "                                                                 df_restaurant_reviews['review_rating'], \n",
    "                                                                 TfidfVectorizer, (1,2))"
   ]
  },
  {
   "cell_type": "markdown",
   "metadata": {},
   "source": [
    "### 3-Gram"
   ]
  },
  {
   "cell_type": "code",
   "execution_count": null,
   "metadata": {},
   "outputs": [],
   "source": [
    "time_3gram_tfidf, scores_3gram_tfidf, \\\n",
    "y_3gram_tfidf, y_pred_3gram_tfidf = xgb_classifier(df_restaurant_reviews['review_text'], \n",
    "                                                                 df_restaurant_reviews['review_rating'], \n",
    "                                                                 TfidfVectorizer, (1,3))"
   ]
  },
  {
   "cell_type": "markdown",
   "metadata": {},
   "source": [
    "### Confusion Matrices for Model with respect to n-Gram"
   ]
  },
  {
   "cell_type": "code",
   "execution_count": null,
   "metadata": {},
   "outputs": [],
   "source": [
    "plt.subplots(figsize=(15, 8))\n",
    "plt.subplot(2, 3, 1)\n",
    "plot_confusion_matrix(confusion_matrix(y_1gram_tfidf, y_pred_1gram_tfidf), classes=class_names, title='XGB 1-gram')\n",
    "plt.subplot(2, 3, 2)\n",
    "plot_confusion_matrix(confusion_matrix(y_2gram_tfidf, y_pred_2gram_tfidf), classes=class_names, title='XGB 2-gram')\n",
    "plt.subplot(2, 3, 3)\n",
    "plot_confusion_matrix(confusion_matrix(y_3gram_tfidf, y_pred_3gram_tfidf), classes=class_names, title='XGB 3-gram')"
   ]
  },
  {
   "cell_type": "code",
   "execution_count": null,
   "metadata": {},
   "outputs": [],
   "source": [
    "runtimes_tfidf = [time_1gram_tfidf, time_2gram_tfidf, time_3gram_tfidf, time_4gram_tfidf, time_5gram_tfidf]\n",
    "accuracy_tfidf = [scores_1gram_tfidf.mean(), scores_2gram_tfidf.mean(), scores_3gram_tfidf.mean(), \\\n",
    "                  scores_4gram_tfidf.mean(), scores_5gram_tfidf.mean()]\n",
    "index_tfidf    = ['1-gram', '2-gram', '3-gram', '4-gram', '5-gram']\n",
    "\n",
    "results_tfidf  = pd.DataFrame({'Runtime (s)': runtimes_tfidf,\n",
    "                        'Accuracy': accuracy_tfidf},\n",
    "                         index=index_tfidf)\n",
    "results_tfidf"
   ]
  },
  {
   "cell_type": "code",
   "execution_count": null,
   "metadata": {},
   "outputs": [],
   "source": [
    "plt.subplots(figsize=(15, 5))\n",
    "\n",
    "plt.subplot(1, 2, 1)\n",
    "_ = plt.plot(n_gram, runtimes_tfidf, linestyle='-.', linewidth=3)\n",
    "_ = plt.xticks(n_gram)\n",
    "_ = plt.title('XGB Runtime for 5-fold Cross Validation', fontsize=18)\n",
    "_ = plt.xlabel('n-Gram', fontsize=20)\n",
    "_ = plt.ylabel('Time (s)', fontsize=20)\n",
    "\n",
    "plt.subplot(1, 2, 2)\n",
    "_ = plt.plot(n_gram, accuracy_tfidf, linestyle='-.', linewidth=3)\n",
    "_ = plt.xticks(n_gram)\n",
    "_ = plt.title('XGB Mean Accuracy for 5-fold Cross Validation', fontsize=18)\n",
    "_ = plt.xlabel('n-Gram', fontsize=20)\n",
    "_ = plt.ylabel('Accuracy', fontsize=20)\n",
    "\n",
    "plt.show()"
   ]
  },
  {
   "cell_type": "markdown",
   "metadata": {},
   "source": [
    "<p> The best performing XGBoost Classifier model has an accuracy of _____\n",
    "    This model uses the ___Vectorizer with bigram parameter input.\n",
    "    We will use this model and apply it to our dataset.\n",
    "</p>"
   ]
  },
  {
   "cell_type": "code",
   "execution_count": null,
   "metadata": {},
   "outputs": [],
   "source": [
    "def model_input_preprocessing(X, y, vect_func, n_gram):\n",
    "    \n",
    "    #1. Vectorize the restaurant reviews\n",
    "    vect = vect_func(ngram_range=n_gram)\n",
    "    review_x = vect.fit_transform(X)\n",
    "    \n",
    "    #2. Label encodes all possible restaurant ratings\n",
    "    le = LabelEncoder()\n",
    "    label = le.fit_transform(y)\n",
    "    \n",
    "    #3. One hot encodes restaurant ratings\n",
    "    ohe = OneHotEncoder()\n",
    "    review_y = ohe.fit_transform(label.reshape(-1,1)).toarray()\n",
    "    review_y = np.argmax(review_y, axis=1)\n",
    "     \n",
    "    return review_x, review_y, vect, le"
   ]
  },
  {
   "cell_type": "code",
   "execution_count": null,
   "metadata": {},
   "outputs": [],
   "source": [
    "X, y, x_enc, y_enc = model_input_preprocessing(df_restaurant_reviews['tokenized_review_text'], \n",
    "                                 df_restaurant_reviews['review_rating'], \n",
    "                                 CountVectorizer, (1,2))\n",
    "\n",
    "X_train, X_test, y_train, y_test = train_test_split(X, y, test_size=0.2, random_state=100)\n",
    "\n",
    "model = RandomForestClassifier()\n",
    "start = time.time()\n",
    "model.fit(X_train, y_train)\n",
    "end   = time.time()\n",
    "y_pred = model.predict(X_test)\n",
    "\n",
    "print('The accuracy score of this model is {}'.format(accuracy_score(y_test, y_pred)))\n",
    "print('Runtime {}s'.format(end-start))"
   ]
  },
  {
   "cell_type": "code",
   "execution_count": null,
   "metadata": {},
   "outputs": [],
   "source": [
    "plt.subplots(figsize=(10, 5))\n",
    "plot_confusion_matrix(confusion_matrix(y_test, y_pred), classes=class_names, title='EDIT TITLE')"
   ]
  },
  {
   "cell_type": "markdown",
   "metadata": {},
   "source": [
    "## Word Cloud Visualization of Model"
   ]
  },
  {
   "cell_type": "markdown",
   "metadata": {},
   "source": [
    "<p>Before Creating the word cloud, first we will reformat the    <br/>\n",
    "   restaurant reviews test data such that all words from 5-star and <br/>\n",
    "   1-star reviews will be consolidated into lists.</p>"
   ]
  },
  {
   "cell_type": "markdown",
   "metadata": {},
   "source": [
    "### Data Processing Stage"
   ]
  },
  {
   "cell_type": "code",
   "execution_count": null,
   "metadata": {},
   "outputs": [],
   "source": [
    "#Multidimensional numpy array format to list\n",
    "X_unvectorized   = x_enc.inverse_transform(X_test)\n",
    "X_unvectorized   = [x.tolist() for x in X_unvectorized]\n",
    "\n",
    "#Converting numpy array to list\n",
    "y_unvectorized   = y_enc.inverse_transform(y_pred)\n",
    "y_unvectorized   = y_unvectorized.tolist()\n",
    "\n",
    "Xy_unvectorized  = list(zip(X_unvectorized, y_unvectorized))"
   ]
  },
  {
   "cell_type": "code",
   "execution_count": null,
   "metadata": {},
   "outputs": [],
   "source": [
    "#Filter out 5-star and 1-star reviews\n",
    "filter_5star = list(filter(lambda x: x[1] == 5, Xy_unvectorized))\n",
    "filter_1star = list(filter(lambda x: x[1] == 1, Xy_unvectorized))"
   ]
  },
  {
   "cell_type": "code",
   "execution_count": null,
   "metadata": {},
   "outputs": [],
   "source": [
    "#Store 5-star and 1-star reviews without rating\n",
    "five_star_reviews, dummy = list(zip(*filter_5star))\n",
    "one_star_reviews, dummy = list(zip(*filter_1star))"
   ]
  },
  {
   "cell_type": "code",
   "execution_count": null,
   "metadata": {},
   "outputs": [],
   "source": [
    "##Convert to lists of lists and flatten list\n",
    "\n",
    "\n",
    "five_star_flattened = list(five_star_reviews)\n",
    "five_star_flattened = [val for sublist in five_star_reviews for val in sublist]\n",
    "\n",
    "one_star_flattened = list(one_star_reviews)\n",
    "one_star_flattened =  [val for sublist in one_star_reviews for val in sublist]"
   ]
  },
  {
   "cell_type": "code",
   "execution_count": null,
   "metadata": {},
   "outputs": [],
   "source": [
    "#Convert Lists into dictionaries with word as the key and frequency as value\n",
    "import collections\n",
    "\n",
    "five_star_dict = dict(collections.Counter(five_star_flattened).most_common())\n",
    "one_star_dict = dict(collections.Counter(one_star_flattened).most_common())"
   ]
  },
  {
   "cell_type": "markdown",
   "metadata": {},
   "source": [
    "### Word Cloud Visualizaiton Stage"
   ]
  },
  {
   "cell_type": "code",
   "execution_count": null,
   "metadata": {},
   "outputs": [],
   "source": [
    "from wordcloud import WordCloud\n",
    "from PIL import Image\n",
    "\n",
    "def transform_format(val):\n",
    "    if val == 26:  #color yellow and blue contrast\n",
    "        return 255\n",
    "    else:\n",
    "        return 0"
   ]
  },
  {
   "cell_type": "code",
   "execution_count": null,
   "metadata": {},
   "outputs": [],
   "source": [
    "wc_mask = np.array(Image.open('waiter.png'))\n",
    "transformed_mask = np.ndarray((wc_mask.shape[0], wc_mask.shape[1]), np.int32)\n",
    "\n",
    "for i in range(len(wc_mask)):\n",
    "    transformed_mask[i] = list(map(transform_format, wc_mask[i]))"
   ]
  },
  {
   "cell_type": "code",
   "execution_count": null,
   "metadata": {},
   "outputs": [],
   "source": [
    "wc_5star = WordCloud(background_color='white', \n",
    "                     max_words=1000, mask=transformed_mask).generate_from_frequencies(five_star_dict)\n",
    "\n",
    "plt.figure(figsize=(20, 13))\n",
    "plt.imshow(wc_5star, interpolation='bilinear')\n",
    "plt.axis('off')\n",
    "plt.title('Words commonly found in 5-Star Restaurant Reviews', fontsize=30)\n",
    "plt.savefig('xgboost_5star.png', format='png')\n",
    "plt.show()"
   ]
  },
  {
   "cell_type": "code",
   "execution_count": null,
   "metadata": {},
   "outputs": [],
   "source": [
    "wc_1star = WordCloud(background_color='white', \n",
    "                     max_words=1000, mask=transformed_mask).generate_from_frequencies(one_star_dict)\n",
    "\n",
    "plt.figure(figsize=(20, 13))\n",
    "plt.imshow(wc_1star, interpolation='bilinear')\n",
    "plt.axis('off')\n",
    "plt.title('Words commonly found in 1-Star Restaurant Reviews', fontsize=30)\n",
    "plt.savefig('xgboost_1star.png', format='png')\n",
    "plt.show()"
   ]
  }
 ],
 "metadata": {
  "kernelspec": {
   "display_name": "Python 3",
   "language": "python",
   "name": "python3"
  },
  "language_info": {
   "codemirror_mode": {
    "name": "ipython",
    "version": 3
   },
   "file_extension": ".py",
   "mimetype": "text/x-python",
   "name": "python",
   "nbconvert_exporter": "python",
   "pygments_lexer": "ipython3",
   "version": "3.6.5"
  }
 },
 "nbformat": 4,
 "nbformat_minor": 2
}
