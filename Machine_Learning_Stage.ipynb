{
 "cells": [
  {
   "cell_type": "markdown",
   "metadata": {},
   "source": [
    "## San Francisco Restaurant Reviews Machine Learning Stage\n",
    "### Darren Lyles"
   ]
  },
  {
   "cell_type": "markdown",
   "metadata": {},
   "source": [
    "<p>\n",
    "    In this notebook, I will be ####explain later\n",
    "</p>"
   ]
  },
  {
   "cell_type": "code",
   "execution_count": 104,
   "metadata": {},
   "outputs": [],
   "source": [
    "import nltk\n",
    "import pandas as pd\n",
    "import matplotlib.pyplot as plt\n",
    "import numpy as np\n",
    "import itertools"
   ]
  },
  {
   "cell_type": "code",
   "execution_count": 5,
   "metadata": {},
   "outputs": [
    {
     "data": {
      "text/html": [
       "<div>\n",
       "<style scoped>\n",
       "    .dataframe tbody tr th:only-of-type {\n",
       "        vertical-align: middle;\n",
       "    }\n",
       "\n",
       "    .dataframe tbody tr th {\n",
       "        vertical-align: top;\n",
       "    }\n",
       "\n",
       "    .dataframe thead th {\n",
       "        text-align: right;\n",
       "    }\n",
       "</style>\n",
       "<table border=\"1\" class=\"dataframe\">\n",
       "  <thead>\n",
       "    <tr style=\"text-align: right;\">\n",
       "      <th></th>\n",
       "      <th>Unnamed: 0</th>\n",
       "      <th>name</th>\n",
       "      <th>cuisine</th>\n",
       "      <th>address</th>\n",
       "      <th>locality</th>\n",
       "      <th>region</th>\n",
       "      <th>hours</th>\n",
       "      <th>email</th>\n",
       "      <th>tel</th>\n",
       "      <th>fax</th>\n",
       "      <th>...</th>\n",
       "      <th>latitude</th>\n",
       "      <th>longitude</th>\n",
       "      <th>price</th>\n",
       "      <th>rating</th>\n",
       "      <th>review_url</th>\n",
       "      <th>review_title</th>\n",
       "      <th>review_text</th>\n",
       "      <th>review_rating</th>\n",
       "      <th>review_date</th>\n",
       "      <th>tokenized_review_text</th>\n",
       "    </tr>\n",
       "  </thead>\n",
       "  <tbody>\n",
       "    <tr>\n",
       "      <th>0</th>\n",
       "      <td>0</td>\n",
       "      <td>21st Amendment Brewery &amp; Restaurant</td>\n",
       "      <td>['Cafe', 'Pub Food', 'American', 'Burgers', 'P...</td>\n",
       "      <td>563 2nd St</td>\n",
       "      <td>San Francisco</td>\n",
       "      <td>CA</td>\n",
       "      <td>{'monday': [['11:30', '23:59']], 'tuesday': [[...</td>\n",
       "      <td>new-pub@21st-amendment.com</td>\n",
       "      <td>(415) 369-0900</td>\n",
       "      <td>(415) 369-0909</td>\n",
       "      <td>...</td>\n",
       "      <td>37.782448</td>\n",
       "      <td>-122.392576</td>\n",
       "      <td>2</td>\n",
       "      <td>4.0</td>\n",
       "      <td>https://www.tripadvisor.com/ShowUserReviews-g6...</td>\n",
       "      <td>Great drinks and food</td>\n",
       "      <td>They have great local craft beers and probably...</td>\n",
       "      <td>4</td>\n",
       "      <td>Mar 28, 2016 12:00:00 AM</td>\n",
       "      <td>['great', 'local', 'craft', 'beer', 'probably'...</td>\n",
       "    </tr>\n",
       "    <tr>\n",
       "      <th>1</th>\n",
       "      <td>1</td>\n",
       "      <td>21st Amendment Brewery &amp; Restaurant</td>\n",
       "      <td>['Cafe', 'Pub Food', 'American', 'Burgers', 'P...</td>\n",
       "      <td>563 2nd St</td>\n",
       "      <td>San Francisco</td>\n",
       "      <td>CA</td>\n",
       "      <td>{'monday': [['11:30', '23:59']], 'tuesday': [[...</td>\n",
       "      <td>new-pub@21st-amendment.com</td>\n",
       "      <td>(415) 369-0900</td>\n",
       "      <td>(415) 369-0909</td>\n",
       "      <td>...</td>\n",
       "      <td>37.782448</td>\n",
       "      <td>-122.392576</td>\n",
       "      <td>2</td>\n",
       "      <td>4.0</td>\n",
       "      <td>https://www.tripadvisor.com/ShowUserReviews-g6...</td>\n",
       "      <td>Good food &amp;amp; beer</td>\n",
       "      <td>We went to the downtown SF location. The resta...</td>\n",
       "      <td>4</td>\n",
       "      <td>Mar 27, 2016 12:00:00 AM</td>\n",
       "      <td>['went', 'downtown', 'sf', 'location', 'restau...</td>\n",
       "    </tr>\n",
       "    <tr>\n",
       "      <th>2</th>\n",
       "      <td>2</td>\n",
       "      <td>21st Amendment Brewery &amp; Restaurant</td>\n",
       "      <td>['Cafe', 'Pub Food', 'American', 'Burgers', 'P...</td>\n",
       "      <td>563 2nd St</td>\n",
       "      <td>San Francisco</td>\n",
       "      <td>CA</td>\n",
       "      <td>{'monday': [['11:30', '23:59']], 'tuesday': [[...</td>\n",
       "      <td>new-pub@21st-amendment.com</td>\n",
       "      <td>(415) 369-0900</td>\n",
       "      <td>(415) 369-0909</td>\n",
       "      <td>...</td>\n",
       "      <td>37.782448</td>\n",
       "      <td>-122.392576</td>\n",
       "      <td>2</td>\n",
       "      <td>4.0</td>\n",
       "      <td>https://www.tripadvisor.com/ShowUserReviews-g6...</td>\n",
       "      <td>Pretty good beers</td>\n",
       "      <td>I just came to this place for drinks with an o...</td>\n",
       "      <td>4</td>\n",
       "      <td>Mar 16, 2016 12:00:00 AM</td>\n",
       "      <td>['came', 'place', 'drink', 'old', 'colleague',...</td>\n",
       "    </tr>\n",
       "    <tr>\n",
       "      <th>3</th>\n",
       "      <td>3</td>\n",
       "      <td>21st Amendment Brewery &amp; Restaurant</td>\n",
       "      <td>['Cafe', 'Pub Food', 'American', 'Burgers', 'P...</td>\n",
       "      <td>563 2nd St</td>\n",
       "      <td>San Francisco</td>\n",
       "      <td>CA</td>\n",
       "      <td>{'monday': [['11:30', '23:59']], 'tuesday': [[...</td>\n",
       "      <td>new-pub@21st-amendment.com</td>\n",
       "      <td>(415) 369-0900</td>\n",
       "      <td>(415) 369-0909</td>\n",
       "      <td>...</td>\n",
       "      <td>37.782448</td>\n",
       "      <td>-122.392576</td>\n",
       "      <td>2</td>\n",
       "      <td>4.0</td>\n",
       "      <td>https://www.tripadvisor.com/ShowUserReviews-g6...</td>\n",
       "      <td>Ridiculously overpriced (yes I live in SF)</td>\n",
       "      <td>Mediocre food (not bad, just mediocre, you can...</td>\n",
       "      <td>3</td>\n",
       "      <td>Mar 8, 2016 12:00:00 AM</td>\n",
       "      <td>['mediocre', 'food', 'bad', 'mediocre', 'find'...</td>\n",
       "    </tr>\n",
       "    <tr>\n",
       "      <th>4</th>\n",
       "      <td>4</td>\n",
       "      <td>21st Amendment Brewery &amp; Restaurant</td>\n",
       "      <td>['Cafe', 'Pub Food', 'American', 'Burgers', 'P...</td>\n",
       "      <td>563 2nd St</td>\n",
       "      <td>San Francisco</td>\n",
       "      <td>CA</td>\n",
       "      <td>{'monday': [['11:30', '23:59']], 'tuesday': [[...</td>\n",
       "      <td>new-pub@21st-amendment.com</td>\n",
       "      <td>(415) 369-0900</td>\n",
       "      <td>(415) 369-0909</td>\n",
       "      <td>...</td>\n",
       "      <td>37.782448</td>\n",
       "      <td>-122.392576</td>\n",
       "      <td>2</td>\n",
       "      <td>4.0</td>\n",
       "      <td>https://www.tripadvisor.com/ShowUserReviews-g6...</td>\n",
       "      <td>Team dinner</td>\n",
       "      <td>We headed out for our team dinner to this esta...</td>\n",
       "      <td>4</td>\n",
       "      <td>Mar 1, 2016 12:00:00 AM</td>\n",
       "      <td>['headed', 'team', 'dinner', 'establishment', ...</td>\n",
       "    </tr>\n",
       "  </tbody>\n",
       "</table>\n",
       "<p>5 rows × 22 columns</p>\n",
       "</div>"
      ],
      "text/plain": [
       "   Unnamed: 0                                 name  \\\n",
       "0           0  21st Amendment Brewery & Restaurant   \n",
       "1           1  21st Amendment Brewery & Restaurant   \n",
       "2           2  21st Amendment Brewery & Restaurant   \n",
       "3           3  21st Amendment Brewery & Restaurant   \n",
       "4           4  21st Amendment Brewery & Restaurant   \n",
       "\n",
       "                                             cuisine     address  \\\n",
       "0  ['Cafe', 'Pub Food', 'American', 'Burgers', 'P...  563 2nd St   \n",
       "1  ['Cafe', 'Pub Food', 'American', 'Burgers', 'P...  563 2nd St   \n",
       "2  ['Cafe', 'Pub Food', 'American', 'Burgers', 'P...  563 2nd St   \n",
       "3  ['Cafe', 'Pub Food', 'American', 'Burgers', 'P...  563 2nd St   \n",
       "4  ['Cafe', 'Pub Food', 'American', 'Burgers', 'P...  563 2nd St   \n",
       "\n",
       "        locality region                                              hours  \\\n",
       "0  San Francisco     CA  {'monday': [['11:30', '23:59']], 'tuesday': [[...   \n",
       "1  San Francisco     CA  {'monday': [['11:30', '23:59']], 'tuesday': [[...   \n",
       "2  San Francisco     CA  {'monday': [['11:30', '23:59']], 'tuesday': [[...   \n",
       "3  San Francisco     CA  {'monday': [['11:30', '23:59']], 'tuesday': [[...   \n",
       "4  San Francisco     CA  {'monday': [['11:30', '23:59']], 'tuesday': [[...   \n",
       "\n",
       "                        email             tel             fax  \\\n",
       "0  new-pub@21st-amendment.com  (415) 369-0900  (415) 369-0909   \n",
       "1  new-pub@21st-amendment.com  (415) 369-0900  (415) 369-0909   \n",
       "2  new-pub@21st-amendment.com  (415) 369-0900  (415) 369-0909   \n",
       "3  new-pub@21st-amendment.com  (415) 369-0900  (415) 369-0909   \n",
       "4  new-pub@21st-amendment.com  (415) 369-0900  (415) 369-0909   \n",
       "\n",
       "                         ...                           latitude   longitude  \\\n",
       "0                        ...                          37.782448 -122.392576   \n",
       "1                        ...                          37.782448 -122.392576   \n",
       "2                        ...                          37.782448 -122.392576   \n",
       "3                        ...                          37.782448 -122.392576   \n",
       "4                        ...                          37.782448 -122.392576   \n",
       "\n",
       "   price  rating                                         review_url  \\\n",
       "0      2     4.0  https://www.tripadvisor.com/ShowUserReviews-g6...   \n",
       "1      2     4.0  https://www.tripadvisor.com/ShowUserReviews-g6...   \n",
       "2      2     4.0  https://www.tripadvisor.com/ShowUserReviews-g6...   \n",
       "3      2     4.0  https://www.tripadvisor.com/ShowUserReviews-g6...   \n",
       "4      2     4.0  https://www.tripadvisor.com/ShowUserReviews-g6...   \n",
       "\n",
       "                                 review_title  \\\n",
       "0                       Great drinks and food   \n",
       "1                        Good food &amp; beer   \n",
       "2                           Pretty good beers   \n",
       "3  Ridiculously overpriced (yes I live in SF)   \n",
       "4                                 Team dinner   \n",
       "\n",
       "                                         review_text review_rating  \\\n",
       "0  They have great local craft beers and probably...             4   \n",
       "1  We went to the downtown SF location. The resta...             4   \n",
       "2  I just came to this place for drinks with an o...             4   \n",
       "3  Mediocre food (not bad, just mediocre, you can...             3   \n",
       "4  We headed out for our team dinner to this esta...             4   \n",
       "\n",
       "                review_date                              tokenized_review_text  \n",
       "0  Mar 28, 2016 12:00:00 AM  ['great', 'local', 'craft', 'beer', 'probably'...  \n",
       "1  Mar 27, 2016 12:00:00 AM  ['went', 'downtown', 'sf', 'location', 'restau...  \n",
       "2  Mar 16, 2016 12:00:00 AM  ['came', 'place', 'drink', 'old', 'colleague',...  \n",
       "3   Mar 8, 2016 12:00:00 AM  ['mediocre', 'food', 'bad', 'mediocre', 'find'...  \n",
       "4   Mar 1, 2016 12:00:00 AM  ['headed', 'team', 'dinner', 'establishment', ...  \n",
       "\n",
       "[5 rows x 22 columns]"
      ]
     },
     "execution_count": 5,
     "metadata": {},
     "output_type": "execute_result"
    }
   ],
   "source": [
    "df_restaurant_reviews = pd.read_csv('restaurant_reviews_tokenized.csv')\n",
    "df_restaurant_reviews.head()"
   ]
  },
  {
   "cell_type": "code",
   "execution_count": 34,
   "metadata": {},
   "outputs": [],
   "source": [
    "from sklearn.feature_extraction.text import CountVectorizer\n",
    "from sklearn.cross_validation import train_test_split\n",
    "\n",
    "review_x = df_restaurant_reviews['tokenized_review_text']\n",
    "review_y = df_restaurant_reviews['review_rating']\n",
    "\n",
    "cv = CountVectorizer()\n",
    "\n",
    "X_train, X_test, y_train, y_test = train_test_split(review_x, review_y, test_size=0.2, train_size=0.8, random_state=42)\n",
    "\n",
    "cv_model = cv.fit_transform(X_train, y_train)"
   ]
  },
  {
   "cell_type": "code",
   "execution_count": 37,
   "metadata": {},
   "outputs": [],
   "source": [
    "cv_array = cv_model.toarray()"
   ]
  },
  {
   "cell_type": "code",
   "execution_count": 66,
   "metadata": {
    "scrolled": true
   },
   "outputs": [
    {
     "data": {
      "text/plain": [
       "18386"
      ]
     },
     "execution_count": 66,
     "metadata": {},
     "output_type": "execute_result"
    }
   ],
   "source": [
    "len(cv.get_feature_names())"
   ]
  },
  {
   "cell_type": "code",
   "execution_count": 48,
   "metadata": {},
   "outputs": [
    {
     "data": {
      "text/plain": [
       "13200"
      ]
     },
     "execution_count": 48,
     "metadata": {},
     "output_type": "execute_result"
    }
   ],
   "source": [
    "len(cv_array)"
   ]
  },
  {
   "cell_type": "code",
   "execution_count": 46,
   "metadata": {},
   "outputs": [
    {
     "data": {
      "text/plain": [
       "[array(['appetizer', 'big', 'chowder', 'clam', 'combination', 'eat',\n",
       "        'good', 'little', 'mussel', 'pepper', 'place', 'seafood',\n",
       "        'seasoned', 'shrimp', 'son', 'steak', 'three', 'type'],\n",
       "       dtype='<U25')]"
      ]
     },
     "execution_count": 46,
     "metadata": {},
     "output_type": "execute_result"
    }
   ],
   "source": [
    "cv_array[0]\n",
    "cv.inverse_transform(cv_array[0])"
   ]
  },
  {
   "cell_type": "code",
   "execution_count": 49,
   "metadata": {},
   "outputs": [
    {
     "data": {
      "text/plain": [
       "\"['mussel', 'appetizer', 'big', 'good', 'clam', 'chowder', 'good', 'shrimp', 'combination', 'three', 'type', 'shrimp', 'good', 'son', 'steak', 'good', 'little', 'seasoned', 'pepper', 'good', 'place', 'seafood', 'eat']\""
      ]
     },
     "execution_count": 49,
     "metadata": {},
     "output_type": "execute_result"
    }
   ],
   "source": [
    "X_train.iloc[0]"
   ]
  },
  {
   "cell_type": "code",
   "execution_count": 57,
   "metadata": {},
   "outputs": [],
   "source": [
    "from sklearn.feature_extraction.text import TfidfVectorizer\n",
    "\n",
    "tfidf_v = TfidfVectorizer(min_df=1, stop_words='english')\n",
    "tfidf_model = tfidf_v.fit_transform(X_train, y_train)"
   ]
  },
  {
   "cell_type": "code",
   "execution_count": 68,
   "metadata": {},
   "outputs": [],
   "source": [
    "tfidf_array = tfidf_model.toarray()"
   ]
  },
  {
   "cell_type": "code",
   "execution_count": 69,
   "metadata": {},
   "outputs": [
    {
     "data": {
      "text/plain": [
       "18102"
      ]
     },
     "execution_count": 69,
     "metadata": {},
     "output_type": "execute_result"
    }
   ],
   "source": [
    "len(tfidf_v.get_feature_names())"
   ]
  },
  {
   "cell_type": "code",
   "execution_count": 72,
   "metadata": {},
   "outputs": [
    {
     "data": {
      "text/plain": [
       "[array(['appetizer', 'big', 'chowder', 'clam', 'combination', 'eat',\n",
       "        'good', 'little', 'mussel', 'pepper', 'place', 'seafood',\n",
       "        'seasoned', 'shrimp', 'son', 'steak', 'type'], dtype='<U25')]"
      ]
     },
     "execution_count": 72,
     "metadata": {},
     "output_type": "execute_result"
    }
   ],
   "source": [
    "tfidf_array[0]\n",
    "tfidf_v.inverse_transform(tfidf_array[0])"
   ]
  },
  {
   "cell_type": "markdown",
   "metadata": {},
   "source": [
    "<p>\n",
    "    Here I will test three classificatio models: Support Vector Macine, K-Nearest Neighbors, and Naive Bayes\n",
    "</p>"
   ]
  },
  {
   "cell_type": "code",
   "execution_count": 81,
   "metadata": {},
   "outputs": [],
   "source": [
    "from sklearn.svm import LinearSVC\n",
    "from sklearn.neighbors import KNeighborsClassifier\n",
    "from sklearn.naive_bayes import MultinomialNB\n",
    "\n",
    "from sklearn.metrics import accuracy_score, classification_report, confusion_matrix\n",
    "\n",
    "###SVM Classifier Function Defintion\n",
    "def svm_classifier(X, y):\n",
    "    X_train, X_test, y_train, y_test = train_test_split(X, y, test_size=0.2, train_size=0.8, random_state=42)\n",
    "    classifier = LinearSVC()\n",
    "    classifier.fit(X_train, y_train)\n",
    "    prediction = classifier.predict(X_test)\n",
    "    print(\"SVC Accuracy: {}\".format(accuracy_score(y_test, prediction)))\n",
    "    return (y_test, prediction)\n",
    "\n",
    "###K-Nearest Neighbors Classifier Function Definition\n",
    "def knn_classifier(X, y):\n",
    "    X_train, X_test, y_train, y_test = train_test_split(X, y, test_size=0.2, train_size=0.8, random_state=42)\n",
    "    classifier = KNeighborsClassifier()\n",
    "    classifier.fit(X_train, y_train)\n",
    "    prediction = classifier.predict(X_test)\n",
    "    print(\"kNN Accuracy: {}\".format(accuracy_score(y_test, prediction)))\n",
    "    return (y_test, prediction)\n",
    "    \n",
    "###Naive Bayes Classifier Function Defintion\n",
    "def nb_classifier(X, y):\n",
    "    X_train, X_test, y_train, y_test = train_test_split(X, y, test_size=0.2, train_size=0.8, random_state=42)\n",
    "    classifier = MultinomialNB()\n",
    "    classifier.fit(X_train, y_train)\n",
    "    prediction = classifier.predict(X_test)\n",
    "    print(\"Naive Bayes Accuracy: {}\".format(accuracy_score(y_test, prediction)))\n",
    "    return (y_test, prediction)"
   ]
  },
  {
   "cell_type": "code",
   "execution_count": 121,
   "metadata": {},
   "outputs": [],
   "source": [
    "def plot_confusion_matrix(cm, classes,\n",
    "                          normalize=False,\n",
    "                          title='Confusion matrix',\n",
    "                          cmap=plt.cm.Blues):\n",
    "    \"\"\"\n",
    "    This function prints and plots the confusion matrix.\n",
    "    Normalization can be applied by setting `normalize=True`.\n",
    "    \"\"\"\n",
    "    if normalize:\n",
    "        cm = cm.astype('float') / cm.sum(axis=1)[:, np.newaxis]\n",
    "        #print(\"Normalized confusion matrix\")\n",
    "    #else:\n",
    "        #print('Confusion matrix, without normalization')\n",
    "\n",
    "    #print(cm)\n",
    "\n",
    "    plt.imshow(cm, interpolation='nearest', cmap=cmap)\n",
    "    plt.title(title)\n",
    "    plt.colorbar()\n",
    "    tick_marks = np.arange(len(classes))\n",
    "    plt.xticks(tick_marks, classes, rotation=45)\n",
    "    plt.yticks(tick_marks, classes)\n",
    "\n",
    "    fmt = '.2f' if normalize else 'd'\n",
    "    thresh = cm.max() / 2.\n",
    "    for i, j in itertools.product(range(cm.shape[0]), range(cm.shape[1])):\n",
    "        plt.text(j, i, format(cm[i, j], fmt),\n",
    "                 horizontalalignment=\"center\",\n",
    "                 color=\"white\" if cm[i, j] > thresh else \"black\")\n",
    "\n",
    "    plt.ylabel('True label')\n",
    "    plt.xlabel('Predicted label')\n",
    "    plt.tight_layout()"
   ]
  },
  {
   "cell_type": "code",
   "execution_count": 110,
   "metadata": {},
   "outputs": [
    {
     "name": "stdout",
     "output_type": "stream",
     "text": [
      "SVC Accuracy: 0.6951515151515152\n",
      "kNN Accuracy: 0.47878787878787876\n",
      "Naive Bayes Accuracy: 0.6751515151515152\n"
     ]
    }
   ],
   "source": [
    "count_vec = CountVectorizer(ngram_range = (1, 2))\n",
    "review_x_cv = count_vec.fit_transform(review_x)\n",
    "\n",
    "svc_actual, svc_predicted = svm_classifier(review_x_cv, review_y)\n",
    "knn_actual, knn_predicted = knn_classifier(review_x_cv, review_y)\n",
    "nb_actual, nb_predicted   = nb_classifier(review_x_cv, review_y)"
   ]
  },
  {
   "cell_type": "code",
   "execution_count": 122,
   "metadata": {},
   "outputs": [
    {
     "data": {
      "image/png": "[encoded data removed]",
      "text/plain": [
       "<Figure size 432x288 with 2 Axes>"
      ]
     },
     "metadata": {},
     "output_type": "display_data"
    },
    {
     "data": {
      "image/png": "[encoded data removed]",
      "text/plain": [
       "<Figure size 432x288 with 2 Axes>"
      ]
     },
     "metadata": {},
     "output_type": "display_data"
    },
    {
     "data": {
      "image/png": "[encoded data removed]",
      "text/plain": [
       "<Figure size 432x288 with 2 Axes>"
      ]
     },
     "metadata": {},
     "output_type": "display_data"
    }
   ],
   "source": [
    "from sklearn.metrics import classification_report, confusion_matrix\n",
    "\n",
    "class_names = ['1', '2', '3', '4', '5']\n",
    "plot_confusion_matrix(confusion_matrix(svc_actual, svc_predicted), classes=class_names, title='SVC')\n",
    "plt.figure()\n",
    "plot_confusion_matrix(confusion_matrix(knn_actual, knn_predicted), classes=class_names, title='kNN')\n",
    "plt.figure()\n",
    "plot_confusion_matrix(confusion_matrix(nb_actual, nb_predicted), classes=class_names, title='NB')"
   ]
  },
  {
   "cell_type": "code",
   "execution_count": 123,
   "metadata": {},
   "outputs": [
    {
     "name": "stdout",
     "output_type": "stream",
     "text": [
      "SVC Accuracy: 0.703030303030303\n",
      "kNN Accuracy: 0.59\n",
      "Naive Bayes Accuracy: 0.5609090909090909\n"
     ]
    }
   ],
   "source": [
    "tfidf_vec = TfidfVectorizer(ngram_range = (1, 2))\n",
    "review_x_tfidf = tfidf_vec.fit_transform(review_x)\n",
    "\n",
    "svc_actual, svc_predicted = svm_classifier(review_x_tfidf, review_y)\n",
    "knn_actual, knn_predicted = knn_classifier(review_x_tfidf, review_y)\n",
    "nb_actual, nb_predicted   = nb_classifier(review_x_tfidf, review_y)"
   ]
  },
  {
   "cell_type": "code",
   "execution_count": 124,
   "metadata": {},
   "outputs": [
    {
     "data": {
      "image/png": "[encoded data removed]",
      "text/plain": [
       "<Figure size 432x288 with 2 Axes>"
      ]
     },
     "metadata": {},
     "output_type": "display_data"
    },
    {
     "data": {
      "image/png": "[encoded data removed]",
      "text/plain": [
       "<Figure size 432x288 with 2 Axes>"
      ]
     },
     "metadata": {},
     "output_type": "display_data"
    },
    {
     "data": {
      "image/png": "[encoded data removed]",
      "text/plain": [
       "<Figure size 432x288 with 2 Axes>"
      ]
     },
     "metadata": {},
     "output_type": "display_data"
    }
   ],
   "source": [
    "plot_confusion_matrix(confusion_matrix(svc_actual, svc_predicted), classes=class_names, title='SVC')\n",
    "plt.figure()\n",
    "plot_confusion_matrix(confusion_matrix(knn_actual, knn_predicted), classes=class_names, title='kNN')\n",
    "plt.figure()\n",
    "plot_confusion_matrix(confusion_matrix(nb_actual, nb_predicted), classes=class_names, title='NB')"
   ]
  },
  {
   "cell_type": "markdown",
   "metadata": {},
   "source": [
    "<p>\n",
    "    SVC with TF-IDF is the winner!!!\n",
    "</p>"
   ]
  },
  {
   "cell_type": "code",
   "execution_count": 170,
   "metadata": {
    "scrolled": true
   },
   "outputs": [],
   "source": [
    "review_x_tfidf_array = review_x_tfidf.toarray()"
   ]
  },
  {
   "cell_type": "code",
   "execution_count": 175,
   "metadata": {},
   "outputs": [
    {
     "data": {
      "text/plain": [
       "array([0., 0., 0., ..., 0., 0., 0.])"
      ]
     },
     "execution_count": 175,
     "metadata": {},
     "output_type": "execute_result"
    }
   ],
   "source": [
    "review_x_tfidf_array[1]"
   ]
  },
  {
   "cell_type": "code",
   "execution_count": 176,
   "metadata": {},
   "outputs": [
    {
     "data": {
      "text/plain": [
       "LinearSVC(C=1.0, class_weight=None, dual=True, fit_intercept=True,\n",
       "     intercept_scaling=1, loss='squared_hinge', max_iter=1000,\n",
       "     multi_class='ovr', penalty='l2', random_state=None, tol=0.0001,\n",
       "     verbose=0)"
      ]
     },
     "execution_count": 176,
     "metadata": {},
     "output_type": "execute_result"
    }
   ],
   "source": [
    "classifier = LinearSVC()\n",
    "classifier.fit(review_x_tfidf, review_y)"
   ]
  },
  {
   "cell_type": "code",
   "execution_count": 195,
   "metadata": {},
   "outputs": [
    {
     "data": {
      "text/plain": [
       "[array(['beer', 'good', 'place', 'drink', 'nice', 'came', 'old',\n",
       "        'colleague', 'pretty', 'service', 'nothing', 'spectacular', 'go',\n",
       "        'back', 'came place', 'place drink', 'drink old', 'old colleague',\n",
       "        'colleague beer', 'beer pretty', 'pretty good', 'good service',\n",
       "        'service nice', 'nice nothing', 'nothing spectacular',\n",
       "        'spectacular go', 'go back'], dtype='<U35')]"
      ]
     },
     "execution_count": 195,
     "metadata": {},
     "output_type": "execute_result"
    }
   ],
   "source": [
    "tfidf_vec.inverse_transform(review_x_tfidf[2])"
   ]
  },
  {
   "cell_type": "code",
   "execution_count": 202,
   "metadata": {},
   "outputs": [
    {
     "data": {
      "text/plain": [
       "array([4, 4, 4, ..., 5, 4, 3])"
      ]
     },
     "execution_count": 202,
     "metadata": {},
     "output_type": "execute_result"
    }
   ],
   "source": [
    "classifier.predict(review_x_tfidf)"
   ]
  },
  {
   "cell_type": "code",
   "execution_count": 217,
   "metadata": {
    "scrolled": true
   },
   "outputs": [
    {
     "data": {
      "text/plain": [
       "array([5])"
      ]
     },
     "execution_count": 217,
     "metadata": {},
     "output_type": "execute_result"
    }
   ],
   "source": [
    "classifier.predict(tfidf_vec.transform(['This restaurant was absolutely amazing!!!']))"
   ]
  },
  {
   "cell_type": "code",
   "execution_count": 218,
   "metadata": {},
   "outputs": [
    {
     "data": {
      "text/plain": [
       "array([3])"
      ]
     },
     "execution_count": 218,
     "metadata": {},
     "output_type": "execute_result"
    }
   ],
   "source": [
    "classifier.predict(tfidf_vec.transform(['This restaurant was OK i guess.']))"
   ]
  },
  {
   "cell_type": "code",
   "execution_count": 249,
   "metadata": {
    "scrolled": true
   },
   "outputs": [
    {
     "data": {
      "text/plain": [
       "array([1])"
      ]
     },
     "execution_count": 249,
     "metadata": {},
     "output_type": "execute_result"
    }
   ],
   "source": [
    "classifier.predict(tfidf_vec.transform(['This place is the worst.']))"
   ]
  }
 ],
 "metadata": {
  "kernelspec": {
   "display_name": "Python 3",
   "language": "python",
   "name": "python3"
  },
  "language_info": {
   "codemirror_mode": {
    "name": "ipython",
    "version": 3
   },
   "file_extension": ".py",
   "mimetype": "text/x-python",
   "name": "python",
   "nbconvert_exporter": "python",
   "pygments_lexer": "ipython3",
   "version": "3.6.5"
  }
 },
 "nbformat": 4,
 "nbformat_minor": 2
}
